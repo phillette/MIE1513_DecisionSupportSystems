{
 "cells": [
  {
   "cell_type": "markdown",
   "metadata": {},
   "source": [
    "# Assignment 3"
   ]
  },
  {
   "cell_type": "markdown",
   "metadata": {},
   "source": [
    "By: Jordan Ponn (996765781) <br>\n",
    "Course: MIE1513"
   ]
  },
  {
   "cell_type": "code",
   "execution_count": 1,
   "metadata": {
    "collapsed": true
   },
   "outputs": [],
   "source": [
    "# import required libraries\n",
    "import numpy as np\n",
    "import pandas as pd\n",
    "from sklearn.metrics.pairwise import pairwise_distances\n",
    "from heapq import nlargest\n",
    "from sklearn.metrics import mean_squared_error\n",
    "from math import sqrt\n",
    "import os.path\n",
    "import scipy.stats as st"
   ]
  },
  {
   "cell_type": "code",
   "execution_count": 2,
   "metadata": {
    "collapsed": true
   },
   "outputs": [],
   "source": [
    "# define constant for movie lends 100K directory\n",
    "MOVIELENS_DIR = \"/resources/data/ml-100k/\"\n",
    "\n",
    "datasetsFileNames = [('u1.base', 'u1.test'),\n",
    "                     ('u2.base', 'u2.test'),\n",
    "                     ('u3.base', 'u3.test'),\n",
    "                     ('u4.base', 'u4.test'),\n",
    "                     ('u5.base', 'u5.test')]"
   ]
  },
  {
   "cell_type": "markdown",
   "metadata": {},
   "source": [
    "## Loading the Data"
   ]
  },
  {
   "cell_type": "markdown",
   "metadata": {},
   "source": [
    "From Recommender Lab, load movie rating data into notebook"
   ]
  },
  {
   "cell_type": "code",
   "execution_count": 3,
   "metadata": {
    "collapsed": false
   },
   "outputs": [
    {
     "data": {
      "text/html": [
       "<div>\n",
       "<table border=\"1\" class=\"dataframe\">\n",
       "  <thead>\n",
       "    <tr style=\"text-align: right;\">\n",
       "      <th></th>\n",
       "      <th>userID</th>\n",
       "      <th>itemID</th>\n",
       "      <th>rating</th>\n",
       "      <th>timestamp</th>\n",
       "    </tr>\n",
       "  </thead>\n",
       "  <tbody>\n",
       "    <tr>\n",
       "      <th>0</th>\n",
       "      <td>196</td>\n",
       "      <td>242</td>\n",
       "      <td>3</td>\n",
       "      <td>881250949</td>\n",
       "    </tr>\n",
       "    <tr>\n",
       "      <th>1</th>\n",
       "      <td>186</td>\n",
       "      <td>302</td>\n",
       "      <td>3</td>\n",
       "      <td>891717742</td>\n",
       "    </tr>\n",
       "    <tr>\n",
       "      <th>2</th>\n",
       "      <td>22</td>\n",
       "      <td>377</td>\n",
       "      <td>1</td>\n",
       "      <td>878887116</td>\n",
       "    </tr>\n",
       "    <tr>\n",
       "      <th>3</th>\n",
       "      <td>244</td>\n",
       "      <td>51</td>\n",
       "      <td>2</td>\n",
       "      <td>880606923</td>\n",
       "    </tr>\n",
       "    <tr>\n",
       "      <th>4</th>\n",
       "      <td>166</td>\n",
       "      <td>346</td>\n",
       "      <td>1</td>\n",
       "      <td>886397596</td>\n",
       "    </tr>\n",
       "  </tbody>\n",
       "</table>\n",
       "</div>"
      ],
      "text/plain": [
       "   userID  itemID  rating  timestamp\n",
       "0     196     242       3  881250949\n",
       "1     186     302       3  891717742\n",
       "2      22     377       1  878887116\n",
       "3     244      51       2  880606923\n",
       "4     166     346       1  886397596"
      ]
     },
     "execution_count": 3,
     "metadata": {},
     "output_type": "execute_result"
    }
   ],
   "source": [
    "# Load rating data from u.data file\n",
    "fields = ['userID', 'itemID', 'rating', 'timestamp']\n",
    "ratingDF = pd.read_csv(os.path.join(MOVIELENS_DIR, 'u.data'), sep='\\t', names=fields)\n",
    "\n",
    "ratingDF.head()"
   ]
  },
  {
   "cell_type": "code",
   "execution_count": 4,
   "metadata": {
    "collapsed": false
   },
   "outputs": [
    {
     "name": "stdout",
     "output_type": "stream",
     "text": [
      "Number of users: 943\n",
      "Number of items: 1682\n"
     ]
    }
   ],
   "source": [
    "# Get number of users and movies\n",
    "numUsers = len(ratingDF.userID.unique())\n",
    "numItems = len(ratingDF.itemID.unique())\n",
    "\n",
    "print(\"Number of users:\", numUsers)\n",
    "print(\"Number of items:\", numItems)"
   ]
  },
  {
   "cell_type": "code",
   "execution_count": 5,
   "metadata": {
    "collapsed": false
   },
   "outputs": [
    {
     "data": {
      "text/html": [
       "<div>\n",
       "<table border=\"1\" class=\"dataframe\">\n",
       "  <thead>\n",
       "    <tr style=\"text-align: right;\">\n",
       "      <th></th>\n",
       "      <th>movieID</th>\n",
       "      <th>movieTitle</th>\n",
       "      <th>releaseDate</th>\n",
       "      <th>videoReleaseDate</th>\n",
       "      <th>IMDbURL</th>\n",
       "      <th>unknown</th>\n",
       "      <th>action</th>\n",
       "      <th>adventure</th>\n",
       "      <th>animation</th>\n",
       "      <th>childrens</th>\n",
       "      <th>...</th>\n",
       "      <th>fantasy</th>\n",
       "      <th>filmNoir</th>\n",
       "      <th>horror</th>\n",
       "      <th>musical</th>\n",
       "      <th>mystery</th>\n",
       "      <th>romance</th>\n",
       "      <th>sciFi</th>\n",
       "      <th>thriller</th>\n",
       "      <th>war</th>\n",
       "      <th>western</th>\n",
       "    </tr>\n",
       "  </thead>\n",
       "  <tbody>\n",
       "    <tr>\n",
       "      <th>0</th>\n",
       "      <td>1</td>\n",
       "      <td>Toy Story (1995)</td>\n",
       "      <td>01-Jan-1995</td>\n",
       "      <td>NaN</td>\n",
       "      <td>http://us.imdb.com/M/title-exact?Toy%20Story%2...</td>\n",
       "      <td>0</td>\n",
       "      <td>0</td>\n",
       "      <td>0</td>\n",
       "      <td>1</td>\n",
       "      <td>1</td>\n",
       "      <td>...</td>\n",
       "      <td>0</td>\n",
       "      <td>0</td>\n",
       "      <td>0</td>\n",
       "      <td>0</td>\n",
       "      <td>0</td>\n",
       "      <td>0</td>\n",
       "      <td>0</td>\n",
       "      <td>0</td>\n",
       "      <td>0</td>\n",
       "      <td>0</td>\n",
       "    </tr>\n",
       "    <tr>\n",
       "      <th>1</th>\n",
       "      <td>2</td>\n",
       "      <td>GoldenEye (1995)</td>\n",
       "      <td>01-Jan-1995</td>\n",
       "      <td>NaN</td>\n",
       "      <td>http://us.imdb.com/M/title-exact?GoldenEye%20(...</td>\n",
       "      <td>0</td>\n",
       "      <td>1</td>\n",
       "      <td>1</td>\n",
       "      <td>0</td>\n",
       "      <td>0</td>\n",
       "      <td>...</td>\n",
       "      <td>0</td>\n",
       "      <td>0</td>\n",
       "      <td>0</td>\n",
       "      <td>0</td>\n",
       "      <td>0</td>\n",
       "      <td>0</td>\n",
       "      <td>0</td>\n",
       "      <td>1</td>\n",
       "      <td>0</td>\n",
       "      <td>0</td>\n",
       "    </tr>\n",
       "    <tr>\n",
       "      <th>2</th>\n",
       "      <td>3</td>\n",
       "      <td>Four Rooms (1995)</td>\n",
       "      <td>01-Jan-1995</td>\n",
       "      <td>NaN</td>\n",
       "      <td>http://us.imdb.com/M/title-exact?Four%20Rooms%...</td>\n",
       "      <td>0</td>\n",
       "      <td>0</td>\n",
       "      <td>0</td>\n",
       "      <td>0</td>\n",
       "      <td>0</td>\n",
       "      <td>...</td>\n",
       "      <td>0</td>\n",
       "      <td>0</td>\n",
       "      <td>0</td>\n",
       "      <td>0</td>\n",
       "      <td>0</td>\n",
       "      <td>0</td>\n",
       "      <td>0</td>\n",
       "      <td>1</td>\n",
       "      <td>0</td>\n",
       "      <td>0</td>\n",
       "    </tr>\n",
       "    <tr>\n",
       "      <th>3</th>\n",
       "      <td>4</td>\n",
       "      <td>Get Shorty (1995)</td>\n",
       "      <td>01-Jan-1995</td>\n",
       "      <td>NaN</td>\n",
       "      <td>http://us.imdb.com/M/title-exact?Get%20Shorty%...</td>\n",
       "      <td>0</td>\n",
       "      <td>1</td>\n",
       "      <td>0</td>\n",
       "      <td>0</td>\n",
       "      <td>0</td>\n",
       "      <td>...</td>\n",
       "      <td>0</td>\n",
       "      <td>0</td>\n",
       "      <td>0</td>\n",
       "      <td>0</td>\n",
       "      <td>0</td>\n",
       "      <td>0</td>\n",
       "      <td>0</td>\n",
       "      <td>0</td>\n",
       "      <td>0</td>\n",
       "      <td>0</td>\n",
       "    </tr>\n",
       "    <tr>\n",
       "      <th>4</th>\n",
       "      <td>5</td>\n",
       "      <td>Copycat (1995)</td>\n",
       "      <td>01-Jan-1995</td>\n",
       "      <td>NaN</td>\n",
       "      <td>http://us.imdb.com/M/title-exact?Copycat%20(1995)</td>\n",
       "      <td>0</td>\n",
       "      <td>0</td>\n",
       "      <td>0</td>\n",
       "      <td>0</td>\n",
       "      <td>0</td>\n",
       "      <td>...</td>\n",
       "      <td>0</td>\n",
       "      <td>0</td>\n",
       "      <td>0</td>\n",
       "      <td>0</td>\n",
       "      <td>0</td>\n",
       "      <td>0</td>\n",
       "      <td>0</td>\n",
       "      <td>1</td>\n",
       "      <td>0</td>\n",
       "      <td>0</td>\n",
       "    </tr>\n",
       "  </tbody>\n",
       "</table>\n",
       "<p>5 rows × 24 columns</p>\n",
       "</div>"
      ],
      "text/plain": [
       "   movieID         movieTitle  releaseDate  videoReleaseDate  \\\n",
       "0        1   Toy Story (1995)  01-Jan-1995               NaN   \n",
       "1        2   GoldenEye (1995)  01-Jan-1995               NaN   \n",
       "2        3  Four Rooms (1995)  01-Jan-1995               NaN   \n",
       "3        4  Get Shorty (1995)  01-Jan-1995               NaN   \n",
       "4        5     Copycat (1995)  01-Jan-1995               NaN   \n",
       "\n",
       "                                             IMDbURL  unknown  action  \\\n",
       "0  http://us.imdb.com/M/title-exact?Toy%20Story%2...        0       0   \n",
       "1  http://us.imdb.com/M/title-exact?GoldenEye%20(...        0       1   \n",
       "2  http://us.imdb.com/M/title-exact?Four%20Rooms%...        0       0   \n",
       "3  http://us.imdb.com/M/title-exact?Get%20Shorty%...        0       1   \n",
       "4  http://us.imdb.com/M/title-exact?Copycat%20(1995)        0       0   \n",
       "\n",
       "   adventure  animation  childrens   ...     fantasy  filmNoir  horror  \\\n",
       "0          0          1          1   ...           0         0       0   \n",
       "1          1          0          0   ...           0         0       0   \n",
       "2          0          0          0   ...           0         0       0   \n",
       "3          0          0          0   ...           0         0       0   \n",
       "4          0          0          0   ...           0         0       0   \n",
       "\n",
       "   musical  mystery  romance  sciFi  thriller  war  western  \n",
       "0        0        0        0      0         0    0        0  \n",
       "1        0        0        0      0         1    0        0  \n",
       "2        0        0        0      0         1    0        0  \n",
       "3        0        0        0      0         0    0        0  \n",
       "4        0        0        0      0         1    0        0  \n",
       "\n",
       "[5 rows x 24 columns]"
      ]
     },
     "execution_count": 5,
     "metadata": {},
     "output_type": "execute_result"
    }
   ],
   "source": [
    "# Get movie information\n",
    "fieldsMovies = ['movieID', 'movieTitle', 'releaseDate', 'videoReleaseDate', 'IMDbURL', 'unknown', 'action', 'adventure',\n",
    "          'animation', 'childrens', 'comedy', 'crime', 'documentary', 'drama', 'fantasy', 'filmNoir', 'horror',\n",
    "          'musical', 'mystery', 'romance','sciFi', 'thriller', 'war', 'western']\n",
    "moviesDF = pd.read_csv(os.path.join(MOVIELENS_DIR, 'u.item'), sep='|', names=fieldsMovies, encoding='latin-1')\n",
    "\n",
    "moviesDF.head()"
   ]
  },
  {
   "cell_type": "markdown",
   "metadata": {},
   "source": [
    "## Building User-to-Item Rating Matrix"
   ]
  },
  {
   "cell_type": "code",
   "execution_count": 6,
   "metadata": {
    "collapsed": true
   },
   "outputs": [],
   "source": [
    "def buildUserItemMatrix(dataset, numUsers, numItems):\n",
    "    # Initialize a of size (numUsers, numItems) to zeros\n",
    "    matrix = np.zeros((numUsers, numItems), dtype=np.int8)\n",
    "    \n",
    "    # Populate the matrix based on the dataset\n",
    "    for (index, userID, itemID, rating, timestamp) in dataset.itertuples():\n",
    "        matrix[userID-1, itemID-1] = rating\n",
    "    return matrix"
   ]
  },
  {
   "cell_type": "code",
   "execution_count": 7,
   "metadata": {
    "collapsed": false
   },
   "outputs": [],
   "source": [
    "# Load all datasets\n",
    "trainUsrItmMatrixList = []\n",
    "testUsrItmMatrixList = []\n",
    "for trainFileName, testFileName in datasetsFileNames:\n",
    "    curTrainDF = pd.read_csv(os.path.join(MOVIELENS_DIR, trainFileName), sep='\\t', names=fields)\n",
    "    curTestDF = pd.read_csv(os.path.join(MOVIELENS_DIR, testFileName), sep='\\t', names=fields)\n",
    "    trainUsrItmMatrixList.append(buildUserItemMatrix(curTrainDF, numUsers, numItems))\n",
    "    testUsrItmMatrixList.append(buildUserItemMatrix(curTestDF, numUsers, numItems))"
   ]
  },
  {
   "cell_type": "markdown",
   "metadata": {},
   "source": [
    "## Row-Row Similarity"
   ]
  },
  {
   "cell_type": "code",
   "execution_count": 8,
   "metadata": {
    "collapsed": true
   },
   "outputs": [],
   "source": [
    "def predictByRowSimilarity(trainSet, numRows, numCols, similarity, showProgress=False):\n",
    "    # Initialize the predicted rating matrix with zeros\n",
    "    predictionMatrix = np.zeros((numRows, numCols))\n",
    "    \n",
    "    for (row,item), rating in np.ndenumerate(trainSet):\n",
    "        # Predict rating for every item that wasn't ranked by the user (rating == 0)\n",
    "        if rating == 0:\n",
    "            # Extract the users that provided rating for this item\n",
    "            itemVector = trainSet[:,item]\n",
    "            rowsRatings = itemVector[itemVector.nonzero()]\n",
    "            \n",
    "            # Get the similarity score for each of the users that provided rating for this item\n",
    "            rowsSim = similarity[row,:][itemVector.nonzero()]\n",
    "            \n",
    "            # If there no users that ranked this item, use user's average\n",
    "            if (len(rowsSim) == 0 or rowsSim.sum() == 0):\n",
    "                rowVector = trainSet[row, :]\n",
    "                ratedItems = rowVector[rowVector.nonzero()]\n",
    "                \n",
    "                # If the user didnt rated any item use 0, otherwise use average\n",
    "                if len(ratedItems) == 0:\n",
    "                    predictionMatrix[row,item] = 0\n",
    "                else:\n",
    "                    predictionMatrix[row,item] = ratedItems.mean()\n",
    "            else:\n",
    "                # predict score based on user-user similarity\n",
    "                predictionMatrix[row,item] = (rowsRatings*rowsSim).sum() / rowsSim.sum()\n",
    "        \n",
    "        # report progress every 100 users\n",
    "        if (row % 100 == 0 and item == 1 and showProgress):\n",
    "            print (\"calculated %d rows\" % (row,))\n",
    "    \n",
    "    return predictionMatrix"
   ]
  },
  {
   "cell_type": "markdown",
   "metadata": {},
   "source": [
    "## Evalution Functions"
   ]
  },
  {
   "cell_type": "code",
   "execution_count": 9,
   "metadata": {
    "collapsed": true
   },
   "outputs": [],
   "source": [
    "def rmse(pred, test):\n",
    "    # calculate RMSE for all the items in the test dataset\n",
    "    predItems = pred[test.nonzero()].flatten() \n",
    "    testItems = test[test.nonzero()].flatten()\n",
    "    return sqrt(mean_squared_error(predItems, testItems))"
   ]
  },
  {
   "cell_type": "code",
   "execution_count": 10,
   "metadata": {
    "collapsed": true
   },
   "outputs": [],
   "source": [
    "# Calcualte cross validation average and ci% confidence intervals (95% by default)\n",
    "def avgScoreAndConfidence(scores, ci=0.95):    \n",
    "    avgScore = np.mean(scores)\n",
    "    scoreCi = st.t.interval(ci, len(scores)-1, loc=np.mean(scores), scale=st.sem(scores))\n",
    "    return avgScore, scoreCi"
   ]
  },
  {
   "cell_type": "code",
   "execution_count": 11,
   "metadata": {
    "collapsed": true
   },
   "outputs": [],
   "source": [
    "def avgPrecisionAtK(testSet, prediction, k):\n",
    "    # Initialize sum and count vars for average calculation\n",
    "    sumPrecisions = 0\n",
    "    countPrecisions = 0\n",
    "    \n",
    "    # Define function for converting 1-5 rating to 0/1 (like / don't like)\n",
    "    vf = np.vectorize(lambda x: 1 if x >= 4 else 0)\n",
    "    \n",
    "    for userID in range(len(prediction)):\n",
    "        # Pick top K based on predicted rating\n",
    "        userVector = prediction[userID,:]\n",
    "        topK = nlargest(k, range(len(userVector)), userVector.take)\n",
    "        \n",
    "        # Convert test set ratings to like / don't like\n",
    "        userTestVector = vf(testSet[userID,:]).nonzero()[0]\n",
    "        \n",
    "        # Calculate precision\n",
    "        precision = len([item for item in topK if item in userTestVector])/len(topK)\n",
    "        \n",
    "        # Update sum and count\n",
    "        sumPrecisions += precision\n",
    "        countPrecisions += 1\n",
    "        \n",
    "    # Return average P@k\n",
    "    return sumPrecisions/countPrecisions"
   ]
  },
  {
   "cell_type": "code",
   "execution_count": 12,
   "metadata": {
    "collapsed": true
   },
   "outputs": [],
   "source": [
    "def avgRecallAtK(testSet, prediction, k):\n",
    "    # Initialize sum and count vars for average calculation\n",
    "    sumRecalls = 0\n",
    "    countRecalls = 0\n",
    "    \n",
    "    # Define function for converting 1-5 rating to 0/1 (like / don't like)\n",
    "    vf = np.vectorize(lambda x: 1 if x >= 4 else 0)\n",
    "    \n",
    "    for userID in range(len(prediction)):\n",
    "        # Pick top K based on predicted rating\n",
    "        userVector = prediction[userID,:]\n",
    "        topK = nlargest(k, range(len(userVector)), userVector.take)\n",
    "        \n",
    "        # Convert test set ratings to like / don't like\n",
    "        userTestVector = vf(testSet[userID,:]).nonzero()[0]\n",
    "        \n",
    "        # Ignore user if has no ratings in the test set\n",
    "        if (len(userTestVector) == 0):\n",
    "            continue\n",
    "        \n",
    "        # Calculate recall\n",
    "        recall = len([item for item in topK if item in userTestVector])/len(userTestVector)\n",
    "        \n",
    "        # Update sum and count\n",
    "        sumRecalls += recall\n",
    "        countRecalls += 1\n",
    "    \n",
    "    # Return average R@k\n",
    "    return sumRecalls/countRecalls"
   ]
  },
  {
   "cell_type": "code",
   "execution_count": 13,
   "metadata": {
    "collapsed": false
   },
   "outputs": [],
   "source": [
    "def kFoldPerformanceEvaluation(rmseList, pAtKList, rAtKList):\n",
    "    ci = 0.95\n",
    "    \n",
    "    # Evaluate confidence interval ci% over k-folds\n",
    "    rmseAvg, rmseInt = avgScoreAndConfidence(rmseList, ci)\n",
    "    pAtKAvg, pAtKInt = avgScoreAndConfidence(pAtKList, ci)\n",
    "    rAtKAvg, rAtKInt = avgScoreAndConfidence(rAtKList, ci)\n",
    "    \n",
    "    # Print results to the console\n",
    "    print(\"The average RMSE is {0} with a {2}% confidence interval of {1}\".format(rmseAvg, rmseInt, round(ci*100)))\n",
    "    print(\"The average P@{2} is {0} with a {3}% confidence interval of {1}\".format(pAtKAvg, pAtKInt, atK, round(ci*100)))\n",
    "    print(\"The average R@{2} is {0} with a {3}% confidence interval of {1}\".format(rAtKAvg, rAtKInt, atK, round(ci*100)))"
   ]
  },
  {
   "cell_type": "markdown",
   "metadata": {
    "collapsed": true
   },
   "source": [
    "## Making Recommendations"
   ]
  },
  {
   "cell_type": "code",
   "execution_count": 14,
   "metadata": {
    "collapsed": true
   },
   "outputs": [],
   "source": [
    "def userTopK(prediction, moviesDataset, userID, k):\n",
    "    # Pick top K based on predicted rating\n",
    "    userVector = prediction[userID+1,:]\n",
    "    topK = nlargest(k, range(len(userVector)), userVector.take)\n",
    "    namesTopK = list(map(lambda x: moviesDataset[moviesDataset.movieID == x+1][\"movieTitle\"].values[0], topK))\n",
    "    return namesTopK"
   ]
  },
  {
   "cell_type": "markdown",
   "metadata": {},
   "source": [
    "## Assignment Questions"
   ]
  },
  {
   "cell_type": "code",
   "execution_count": 15,
   "metadata": {
    "collapsed": true
   },
   "outputs": [],
   "source": [
    "# Constants\n",
    "atK = 10 # for P@k and R@k"
   ]
  },
  {
   "cell_type": "markdown",
   "metadata": {},
   "source": [
    "### Q1.) Similarity in User-User Collaborative Filtering"
   ]
  },
  {
   "cell_type": "code",
   "execution_count": 16,
   "metadata": {
    "collapsed": false
   },
   "outputs": [],
   "source": [
    "def kFoldUserSimilarity (trainList, testList, simMetric):\n",
    "    rmseList = []\n",
    "    pAtKList = []\n",
    "    rAtKList= []   \n",
    "\n",
    "    # Predict each training set\n",
    "    for i, (train, test) in enumerate(zip(trainList, testList)):\n",
    "        \n",
    "        # Evaluate similarity matrix\n",
    "        rowSimilarity = []\n",
    "        if (simMetric == 'cosine'):\n",
    "            rowSimilarity = 1 - pairwise_distances(train, metric='cosine')\n",
    "        else:\n",
    "            rowSimilarity = 1/pairwise_distances(train, metric=simMetric)\n",
    "        \n",
    "        # Predict ratings with User-User similarity\n",
    "        userSimPrediction = predictByRowSimilarity(train, len(train), numItems, rowSimilarity)\n",
    "        \n",
    "        # Evaluate performance metrics RMSE, P@K and R@K\n",
    "        rmseList.append(rmse(userSimPrediction, test))\n",
    "        pAtKList.append(avgPrecisionAtK(test, userSimPrediction, atK))\n",
    "        rAtKList.append(avgRecallAtK(test, userSimPrediction, atK))\n",
    "    \n",
    "    # Evaluate confidence interval over k-folds\n",
    "    kFoldPerformanceEvaluation(rmseList, pAtKList, rAtKList)"
   ]
  },
  {
   "cell_type": "code",
   "execution_count": 17,
   "metadata": {
    "collapsed": false
   },
   "outputs": [
    {
     "name": "stdout",
     "output_type": "stream",
     "text": [
      "The average RMSE is 1.0173541216605808 with a 95% confidence interval of (1.0090130802261479, 1.0256951630950137)\n",
      "The average P@10 is 0.0004453870625662779 with a 95% confidence interval of (0.00019211151769883521, 0.00069866260743372058)\n",
      "The average R@10 is 0.00032082672136588865 with a 95% confidence interval of (0.00014991646224179681, 0.00049173698048998044)\n"
     ]
    }
   ],
   "source": [
    "kFoldUserSimilarity(trainUsrItmMatrixList, testUsrItmMatrixList, 'cosine')"
   ]
  },
  {
   "cell_type": "code",
   "execution_count": 18,
   "metadata": {
    "collapsed": false
   },
   "outputs": [
    {
     "name": "stdout",
     "output_type": "stream",
     "text": [
      "The average RMSE is 1.0224858934767425 with a 95% confidence interval of (1.0136930548285885, 1.0312787321248964)\n",
      "The average P@10 is 0.0003817603393425239 with a 95% confidence interval of (0.0002316315188778076, 0.00053188915980724016)\n",
      "The average R@10 is 0.00026546144717910417 with a 95% confidence interval of (0.0001508308841757179, 0.00038009201018249044)\n"
     ]
    }
   ],
   "source": [
    "kFoldUserSimilarity(trainUsrItmMatrixList, testUsrItmMatrixList, 'euclidean')"
   ]
  },
  {
   "cell_type": "code",
   "execution_count": 19,
   "metadata": {
    "collapsed": false
   },
   "outputs": [
    {
     "name": "stdout",
     "output_type": "stream",
     "text": [
      "The average RMSE is 1.0223993230374169 with a 95% confidence interval of (1.0135310622628049, 1.0312675838120289)\n",
      "The average P@10 is 0.00033934252386002124 with a 95% confidence interval of (0.0001951034187363188, 0.00048358162898372368)\n",
      "The average R@10 is 0.0002487234892099764 with a 95% confidence interval of (0.00014374835396953561, 0.00035369862445041721)\n"
     ]
    }
   ],
   "source": [
    "kFoldUserSimilarity(trainUsrItmMatrixList, testUsrItmMatrixList, 'manhattan')"
   ]
  },
  {
   "cell_type": "markdown",
   "metadata": {},
   "source": [
    "The cosine similarity metric works better than the euclidian metric.  This is because euclidian is not normalizing the vectors to account for strength preference (i.e. two users mave have similar tastes, but one may tend to have inflated ratings). The manhattan metric performs worse than euclidian as it is also a distance metric, but uses strictly horizontal or vertical paths instead of the direct path between the two vectors."
   ]
  },
  {
   "cell_type": "markdown",
   "metadata": {},
   "source": [
    "### Q2.) Item-Item Collaborative Filtering"
   ]
  },
  {
   "cell_type": "code",
   "execution_count": 20,
   "metadata": {
    "collapsed": false
   },
   "outputs": [],
   "source": [
    "def predictByItemSimilarity(trainSet, numUsers, numItems, similarity):\n",
    "    return predictByRowSimilarity(trainSet, numItems, numUsers, similarity)\n",
    "\n",
    "def kFoldItemSimilarity(trainList, testList, returnResult = False):\n",
    "    rmseList = []\n",
    "    pAtKList = []\n",
    "    rAtKList= []\n",
    "    bestPred = []\n",
    "    trainIndex = 0\n",
    "    \n",
    "    for i, (train, test) in enumerate(zip(trainList, testList)):\n",
    "        users = len(train)\n",
    "        # Transpose user-item matrix\n",
    "        trainTrans = np.transpose(train)\n",
    "        \n",
    "        # Evaluate similarity matrix\n",
    "        sim = 1 - pairwise_distances(trainTrans, metric='cosine')\n",
    "        \n",
    "        # Perform similarity analysis where Items are now rows\n",
    "        userSimPrediction = np.transpose(predictByItemSimilarity(trainTrans, users, numItems, sim))\n",
    "        \n",
    "        # Keep best prediction matrix based on RMSE\n",
    "        err = rmse(userSimPrediction, test)\n",
    "        if (len(rmseList) == 0 or err < min(rmseList)):\n",
    "            bestPred = userSimPrediction\n",
    "            trainIndex = i\n",
    "        \n",
    "        # Evaluate performance metrics RMSE, P@K and R@K\n",
    "        rmseList.append(err)\n",
    "        pAtKList.append(avgPrecisionAtK(test, userSimPrediction, atK))\n",
    "        rAtKList.append(avgRecallAtK(test, userSimPrediction, atK))\n",
    "        \n",
    "    # Evaluate confidence interval over k-folds\n",
    "    kFoldPerformanceEvaluation(rmseList, pAtKList, rAtKList)\n",
    "    \n",
    "    # Return best prediction matrix and index of training set used of requested\n",
    "    if(returnResult):\n",
    "        return bestPred, trainIndex"
   ]
  },
  {
   "cell_type": "code",
   "execution_count": 21,
   "metadata": {
    "collapsed": false
   },
   "outputs": [
    {
     "name": "stdout",
     "output_type": "stream",
     "text": [
      "The average RMSE is 1.0200829001062477 with a 95% confidence interval of (1.006824268625073, 1.0333415315874224)\n",
      "The average P@10 is 0.00012725344644750795 with a 95% confidence interval of (6.8368078362719003e-05, 0.00018613881453229689)\n",
      "The average R@10 is 0.00012026885276058383 with a 95% confidence interval of (4.0408614452877342e-05, 0.00020012909106829034)\n"
     ]
    }
   ],
   "source": [
    "itemSimPred, bestItemTrainIndex = kFoldItemSimilarity(trainUsrItmMatrixList, testUsrItmMatrixList, returnResult = True)"
   ]
  },
  {
   "cell_type": "markdown",
   "metadata": {
    "collapsed": true
   },
   "source": [
    "b.) See above for the RMSE results.  The User-user similarity model performed slightly better than Item-item model.  This is because there are significantly more items than users in each data set (1682 Items and 943 Users), so there is likely more data per user than per item."
   ]
  },
  {
   "cell_type": "markdown",
   "metadata": {},
   "source": [
    "### Q3.) Performance Comparison"
   ]
  },
  {
   "cell_type": "markdown",
   "metadata": {},
   "source": [
    "a.) See output above for RMSE, P@k, and R@k for all recommenders. k was selected to be 10, as most user interfacing systems offer 'top-10' lists.  This gives enough options without overwhelming the user."
   ]
  },
  {
   "cell_type": "markdown",
   "metadata": {},
   "source": [
    "b.) With the baselines where user average was used for for all predictions, P@K and R@K would be meaningless as you cannot rank items if they all have the same value.  With the baseline using popularity, RMSE would be useless as this methods aims to rank items relative to eachother and ignores the actual rank itself, which will cause an inflated RMSE."
   ]
  },
  {
   "cell_type": "markdown",
   "metadata": {},
   "source": [
    "c.) In each metric, User-user outperforms item-item in each case.  Again, this is due to the bias in the data favoring the user-user approach, as mentioned in answer 2b."
   ]
  },
  {
   "cell_type": "markdown",
   "metadata": {},
   "source": [
    "d.) Performance in one metric does not imply performance in the other, as they are evaluating different things.  RMSE evaluates how well the rating was predicted, while P@K and R@K evalutes how items rank relative to eachother, based on a specific context."
   ]
  },
  {
   "cell_type": "markdown",
   "metadata": {},
   "source": [
    "### Q4.) Similarity Evaluation"
   ]
  },
  {
   "cell_type": "code",
   "execution_count": 22,
   "metadata": {
    "collapsed": false
   },
   "outputs": [],
   "source": [
    "# Search dataset by title field for Movie ID and Movie Title\n",
    "def getMovieIDs(moviesDataset, query):\n",
    "    resultDF = pd.DataFrame(moviesDataset[\"movieTitle\"].str.contains(query))\n",
    "    movieIDs = [index+1 for index, value in resultDF.itertuples() if (value)]\n",
    "    return [[movieID, movieTitle] for movieID, movieTitle in zip(movieIDs, getMovieList(moviesDF, movieIDs))]\n",
    "\n",
    "# Get movie list titles based on IDs\n",
    "def getMovieList(moviesDataset, idList):\n",
    "    names = list(map(lambda x: moviesDataset[moviesDataset.movieID == x][\"movieTitle\"].values[0], idList))\n",
    "    return names\n",
    "\n",
    "# Find top k similar movies based on a simularity matrix\n",
    "def kSimilarMovies(movieDataset, movieSim, movieID, k):\n",
    "    print(\"Top {0} movies for movie: {1}\".format(k, getMovieList(movieDataset,[movieID])[0]))\n",
    "    return getMovieList(movieDataset, [x+1 for x in np.argsort(movieSim[movieID-1])[0:k]])\n",
    "\n",
    "# Merge train and predictions to get more information for similarity comparison\n",
    "def mergePredictAndTrain(train, prediction):\n",
    "    # Initialize the merged rating matrix with zeros\n",
    "    mergeMatrix = np.zeros((numUsers, numItems))\n",
    "    \n",
    "    # Merge the two matricies together\n",
    "    for (row,item), rating in np.ndenumerate(train):\n",
    "        if rating == 0:\n",
    "            mergeMatrix[row,item] = prediction[row,item]\n",
    "        else:\n",
    "            mergeMatrix[row,item] = train[row,item]\n",
    "    return mergeMatrix"
   ]
  },
  {
   "cell_type": "code",
   "execution_count": 23,
   "metadata": {
    "collapsed": false
   },
   "outputs": [
    {
     "data": {
      "text/plain": [
       "[[148, 'Ghost and the Darkness, The (1996)'],\n",
       " [402, 'Ghost (1990)'],\n",
       " [1050, 'Ghost and Mrs. Muir, The (1947)'],\n",
       " [1136, 'Ghosts of Mississippi (1996)'],\n",
       " [1240, 'Ghost in the Shell (Kokaku kidotai) (1995)']]"
      ]
     },
     "execution_count": 23,
     "metadata": {},
     "output_type": "execute_result"
    }
   ],
   "source": [
    "# Search Movie DB for movies based on title\n",
    "getMovieIDs(moviesDF, \"Ghost\")"
   ]
  },
  {
   "cell_type": "code",
   "execution_count": 24,
   "metadata": {
    "collapsed": true
   },
   "outputs": [],
   "source": [
    "# Constants\n",
    "topKMovies = 5\n",
    "movieID1 = 173 # Princess Bride, The (1987)\n",
    "movieID2 = 1240 # Ghost in the Shell (Kokaku kidotai) (1995)\n",
    "movieID3 = 24 # Rumble in the Bronx (1995)"
   ]
  },
  {
   "cell_type": "code",
   "execution_count": 25,
   "metadata": {
    "collapsed": false
   },
   "outputs": [],
   "source": [
    "# Create Item Similarity Matrix with merged train and prediction matrix\n",
    "movieSim = 1 - pairwise_distances(np.transpose(mergePredictAndTrain(trainUsrItmMatrixList[bestItemTrainIndex], itemSimPred)), metric='cosine')"
   ]
  },
  {
   "cell_type": "code",
   "execution_count": 26,
   "metadata": {
    "collapsed": false
   },
   "outputs": [
    {
     "name": "stdout",
     "output_type": "stream",
     "text": [
      "Top 5 movies for movie: Princess Bride, The (1987)\n"
     ]
    },
    {
     "data": {
      "text/plain": [
       "['Lady of Burlesque (1943)',\n",
       " 'King of New York (1990)',\n",
       " 'Savage Nights (Nuits fauves, Les) (1992)',\n",
       " 'MURDER and murder (1996)',\n",
       " 'Butterfly Kiss (1995)']"
      ]
     },
     "execution_count": 26,
     "metadata": {},
     "output_type": "execute_result"
    }
   ],
   "source": [
    "kSimilarMovies(moviesDF, movieSim, movieID1, topKMovies)"
   ]
  },
  {
   "cell_type": "code",
   "execution_count": 27,
   "metadata": {
    "collapsed": false
   },
   "outputs": [
    {
     "name": "stdout",
     "output_type": "stream",
     "text": [
      "Top 5 movies for movie: Ghost in the Shell (Kokaku kidotai) (1995)\n"
     ]
    },
    {
     "data": {
      "text/plain": [
       "['Small Faces (1995)',\n",
       " 'Target (1995)',\n",
       " 'Favor, The (1994)',\n",
       " 'Chairman of the Board (1998)',\n",
       " 'Entertaining Angels: The Dorothy Day Story (1996)']"
      ]
     },
     "execution_count": 27,
     "metadata": {},
     "output_type": "execute_result"
    }
   ],
   "source": [
    "kSimilarMovies(moviesDF, movieSim, movieID2, topKMovies)"
   ]
  },
  {
   "cell_type": "code",
   "execution_count": 28,
   "metadata": {
    "collapsed": false
   },
   "outputs": [
    {
     "name": "stdout",
     "output_type": "stream",
     "text": [
      "Top 5 movies for movie: Rumble in the Bronx (1995)\n"
     ]
    },
    {
     "data": {
      "text/plain": [
       "['Gate of Heavenly Peace, The (1995)',\n",
       " 'New Age, The (1994)',\n",
       " 'Favor, The (1994)',\n",
       " 'Chairman of the Board (1998)',\n",
       " 'Entertaining Angels: The Dorothy Day Story (1996)']"
      ]
     },
     "execution_count": 28,
     "metadata": {},
     "output_type": "execute_result"
    }
   ],
   "source": [
    "kSimilarMovies(moviesDF, movieSim, movieID3, topKMovies)"
   ]
  },
  {
   "cell_type": "markdown",
   "metadata": {},
   "source": [
    "b.) The recommendations made moderate amounts of sense.  As mentioned earlier, given that the data is biased towards users who have rated both items, the inaccuracies in the similarity matrix stem from lack of ratings for each movie, meaning the prediction matrix needs to resort to using averages.  As seen above, the reccomender can only give broad suggestions for movies with fewer rating."
   ]
  },
  {
   "cell_type": "markdown",
   "metadata": {},
   "source": [
    "### Q5.) Testing with different user types"
   ]
  },
  {
   "cell_type": "code",
   "execution_count": 29,
   "metadata": {
    "collapsed": true
   },
   "outputs": [],
   "source": [
    "# Count number of user ratings across all users\n",
    "def getUserRatingCounts(userItemMatrix):\n",
    "    return [np.size(userRatings.nonzero()) for userRatings in userItemMatrix]\n",
    "#return [np.size(np.where(userRatings>0)) for userRatings in userItemMatrix]"
   ]
  },
  {
   "cell_type": "code",
   "execution_count": 30,
   "metadata": {
    "collapsed": false
   },
   "outputs": [
    {
     "data": {
      "image/png": "[encoded data removed]",
      "text/plain": [
       "<matplotlib.figure.Figure at 0x258231adba8>"
      ]
     },
     "metadata": {},
     "output_type": "display_data"
    }
   ],
   "source": [
    "import matplotlib.pyplot as plt\n",
    "%matplotlib inline\n",
    "\n",
    "# Get ratings per user across all users\n",
    "allUserRatingCounts = getUserRatingCounts(buildUserItemMatrix(ratingDF, numUsers, numItems))\n",
    "\n",
    "# Plot histogram\n",
    "ax = plt.subplot(111)\n",
    "plt.hist(allUserRatingCounts, bins=20)\n",
    "plt.title(\"Number of ratings per User\")\n",
    "ax.set_ylabel('Frequency')\n",
    "ax.set_xlabel('Number of Ratings')\n",
    "plt.show()"
   ]
  },
  {
   "cell_type": "code",
   "execution_count": 31,
   "metadata": {
    "collapsed": false
   },
   "outputs": [],
   "source": [
    "trainAboveThresholdList = []\n",
    "testAboveThresholdList =[]\n",
    "trainBelowThresholdList = []\n",
    "testBelowThresholdList =[]\n",
    "\n",
    "# Define threshold\n",
    "threshold = np.mean(allUserRatingCounts)\n",
    "\n",
    "for train, test in zip(trainUsrItmMatrixList, testUsrItmMatrixList):\n",
    "    # Calculate number of ratings per user\n",
    "    userRatingCounts = getUserRatingCounts(train)\n",
    "    \n",
    "    # Find all user IDs of users above the threshold value\n",
    "    aboveThresholdIDList = [userID for userID, ratingCount in enumerate(userRatingCounts) if ratingCount> threshold]\n",
    "    belowThresholdIDList = [x for x in range(0,numUsers) if x not in aboveThresholdIDList]\n",
    "    \n",
    "    # Slice test and train sets based on threshold value\n",
    "    trainAboveThresholdList.append(train[aboveThresholdIDList])\n",
    "    testAboveThresholdList.append(test[aboveThresholdIDList])\n",
    "    trainBelowThresholdList.append(train[belowThresholdIDList])\n",
    "    testBelowThresholdList.append(test[belowThresholdIDList])"
   ]
  },
  {
   "cell_type": "code",
   "execution_count": 32,
   "metadata": {
    "collapsed": false
   },
   "outputs": [
    {
     "name": "stdout",
     "output_type": "stream",
     "text": [
      "The average RMSE is 1.010974265942393 with a 95% confidence interval of (0.99176128080106618, 1.03018725108372)\n",
      "The average P@10 is 0.0016390480305763272 with a 95% confidence interval of (-0.0011795544535935718, 0.0044576505147462262)\n",
      "The average R@10 is 0.0008867660718454142 with a 95% confidence interval of (-0.00063443178595909205, 0.0024079639296499204)\n"
     ]
    }
   ],
   "source": [
    "kFoldUserSimilarity(trainAboveThresholdList, testAboveThresholdList, 'cosine')"
   ]
  },
  {
   "cell_type": "code",
   "execution_count": 33,
   "metadata": {
    "collapsed": false
   },
   "outputs": [
    {
     "name": "stdout",
     "output_type": "stream",
     "text": [
      "The average RMSE is 1.0470728344203217 with a 95% confidence interval of (1.0411611200780206, 1.0529845487626228)\n",
      "The average P@10 is 0.0006520323741540288 with a 95% confidence interval of (0.00022604562723096998, 0.0010780191210770875)\n",
      "The average R@10 is 0.0005866409905939891 with a 95% confidence interval of (-5.2874099783176576e-06, 0.0011785693911662959)\n"
     ]
    }
   ],
   "source": [
    "kFoldUserSimilarity(trainBelowThresholdList, testBelowThresholdList, 'cosine')"
   ]
  },
  {
   "cell_type": "code",
   "execution_count": 34,
   "metadata": {
    "collapsed": false
   },
   "outputs": [
    {
     "name": "stdout",
     "output_type": "stream",
     "text": [
      "The average RMSE is 1.0195239100839637 with a 95% confidence interval of (1.002380352537233, 1.0366674676306944)\n",
      "The average P@10 is 0.0010462215881791074 with a 95% confidence interval of (0.00066416276786537549, 0.0014282804084928393)\n",
      "The average R@10 is 0.0005485045129872966 with a 95% confidence interval of (6.3679874725235358e-05, 0.001033329151249358)\n"
     ]
    }
   ],
   "source": [
    "kFoldItemSimilarity(trainAboveThresholdList, testAboveThresholdList)"
   ]
  },
  {
   "cell_type": "code",
   "execution_count": 35,
   "metadata": {
    "collapsed": false
   },
   "outputs": [
    {
     "name": "stdout",
     "output_type": "stream",
     "text": [
      "The average RMSE is 1.0569827867576653 with a 95% confidence interval of (1.0415787563320638, 1.0723868171832669)\n",
      "The average P@10 is 0.0001775162189782358 with a 95% confidence interval of (9.5978500860809853e-05, 0.00025905393709566178)\n",
      "The average R@10 is 0.00010638322288681415 with a 95% confidence interval of (4.5350476503817081e-05, 0.00016741596926981122)\n"
     ]
    }
   ],
   "source": [
    "kFoldItemSimilarity(trainBelowThresholdList, testBelowThresholdList)"
   ]
  },
  {
   "cell_type": "markdown",
   "metadata": {},
   "source": [
    "In all cases, the dataset looking at above the threshold had improved results for each metric, while the dataset below the threshold had worse results.  This is because removing the low threshold items improved the overall quality of the dataset, as there was more information to draw on to determine fewer predictions.  Conversly, the low threshold set performed worst as there was less data available for more predictions."
   ]
  }
 ],
 "metadata": {
  "kernelspec": {
   "display_name": "Python 3",
   "language": "python",
   "name": "python3"
  },
  "language_info": {
   "codemirror_mode": {
    "name": "ipython",
    "version": 3
   },
   "file_extension": ".py",
   "mimetype": "text/x-python",
   "name": "python",
   "nbconvert_exporter": "python",
   "pygments_lexer": "ipython3",
   "version": "3.5.1"
  }
 },
 "nbformat": 4,
 "nbformat_minor": 0
}
