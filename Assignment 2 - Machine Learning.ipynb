{
 "cells": [
  {
   "cell_type": "markdown",
   "metadata": {},
   "source": [
    "# Assignment 2"
   ]
  },
  {
   "cell_type": "markdown",
   "metadata": {},
   "source": [
    "By: Jordan Ponn (996765781) <br>\n",
    "Course: MIE1513"
   ]
  },
  {
   "cell_type": "code",
   "execution_count": 1,
   "metadata": {
    "collapsed": false
   },
   "outputs": [],
   "source": [
    "# import required libraries\n",
    "# pandas:Data framework library for Python\n",
    "# sklearn: Library to perform machine learning tasks\n",
    "import pandas \n",
    "import numpy as np\n",
    "import scipy\n",
    "import scipy.stats as st\n",
    "import sklearn \n",
    "import sklearn.datasets\n",
    "import sklearn.metrics as metrics \n",
    "from sklearn.linear_model import LogisticRegression\n",
    "from sklearn.naive_bayes import MultinomialNB\n",
    "from sklearn.cross_validation import StratifiedKFold\n",
    "from sklearn.svm import SVC\n",
    "from sklearn.grid_search import GridSearchCV\n",
    "from sklearn.metrics import classification_report\n",
    "from sklearn.cross_validation import train_test_split\n",
    "from sklearn.preprocessing import label_binarize\n",
    "from scipy import stats\n",
    "\n",
    "import matplotlib.pyplot as plt\n",
    "%matplotlib inline"
   ]
  },
  {
   "cell_type": "code",
   "execution_count": 2,
   "metadata": {
    "collapsed": true
   },
   "outputs": [],
   "source": [
    "# Constants\n",
    "BINARY = 0\n",
    "TERM_FREQUENCY = 1\n",
    "LOGISTIC_REGRESSION = 0\n",
    "NAIVE_BAYES = 1"
   ]
  },
  {
   "cell_type": "markdown",
   "metadata": {},
   "source": [
    "## Create Dataframe"
   ]
  },
  {
   "cell_type": "code",
   "execution_count": 3,
   "metadata": {
    "collapsed": false
   },
   "outputs": [
    {
     "data": {
      "text/html": [
       "<div>\n",
       "<table border=\"1\" class=\"dataframe\">\n",
       "  <thead>\n",
       "    <tr style=\"text-align: right;\">\n",
       "      <th></th>\n",
       "      <th>Directories</th>\n",
       "    </tr>\n",
       "  </thead>\n",
       "  <tbody>\n",
       "    <tr>\n",
       "      <th>0</th>\n",
       "      <td>/resources/data/20_newsgroups/sci.med/59488</td>\n",
       "    </tr>\n",
       "    <tr>\n",
       "      <th>1</th>\n",
       "      <td>/resources/data/20_newsgroups/sci.med/59072</td>\n",
       "    </tr>\n",
       "    <tr>\n",
       "      <th>2</th>\n",
       "      <td>/resources/data/20_newsgroups/sci.med/58109</td>\n",
       "    </tr>\n",
       "    <tr>\n",
       "      <th>3</th>\n",
       "      <td>/resources/data/20_newsgroups/sci.med/59588</td>\n",
       "    </tr>\n",
       "    <tr>\n",
       "      <th>4</th>\n",
       "      <td>/resources/data/20_newsgroups/sci.med/59325</td>\n",
       "    </tr>\n",
       "  </tbody>\n",
       "</table>\n",
       "</div>"
      ],
      "text/plain": [
       "                                   Directories\n",
       "0  /resources/data/20_newsgroups/sci.med/59488\n",
       "1  /resources/data/20_newsgroups/sci.med/59072\n",
       "2  /resources/data/20_newsgroups/sci.med/58109\n",
       "3  /resources/data/20_newsgroups/sci.med/59588\n",
       "4  /resources/data/20_newsgroups/sci.med/59325"
      ]
     },
     "execution_count": 3,
     "metadata": {},
     "output_type": "execute_result"
    }
   ],
   "source": [
    "import os\n",
    "# create file directory for all files\n",
    "files = []\n",
    "folders = []\n",
    "for (path, dirnames, filenames) in os.walk('/resources/data/20_newsgroups'):\n",
    "    folders.extend(os.path.join(path, name) for name in dirnames)\n",
    "    files.extend(os.path.join(path, name) for name in filenames)\n",
    "    \n",
    "# putting file directories into pandas dataframw\n",
    "directorydf= pandas.DataFrame(files)\n",
    "directorydf.columns = ['Directories']\n",
    "directorydf.head(n=5)"
   ]
  },
  {
   "cell_type": "code",
   "execution_count": 4,
   "metadata": {
    "collapsed": true
   },
   "outputs": [],
   "source": [
    "# create function to help encoding the targets\n",
    "def label_target (d):\n",
    "    if d.find(\"alt.atheism\") > 0 :\n",
    "      return 0\n",
    "    if d.find(\"comp.graphics\") > 0:\n",
    "      return 1\n",
    "    if d.find(\"comp.os.ms-windows.misc\") > 0:\n",
    "      return 2\n",
    "    if d.find(\"comp.sys.ibm.pc.hardware\") > 0:\n",
    "      return 3\n",
    "    if d.find(\"comp.sys.mac.hardware\") > 0:\n",
    "      return 4\n",
    "    if d.find(\"comp.windows.x\") > 0:\n",
    "      return 5\n",
    "    if d.find(\"misc.forsale\") > 0:\n",
    "      return 6\n",
    "    if d.find(\"rec.autos\") > 0:\n",
    "      return 7\n",
    "    if d.find(\"rec.motorcycles\") > 0:\n",
    "      return 8\n",
    "    if d.find(\"rec.sport.baseball\") > 0:\n",
    "      return 9\n",
    "    if d.find(\"rec.sport.hockey\") > 0:\n",
    "      return 10\n",
    "    if d.find(\"sci.crypt\") > 0:\n",
    "      return 11\n",
    "    if d.find(\"sci.electronics\") > 0:\n",
    "      return 12\n",
    "    if d.find(\"sci.med\") > 0:\n",
    "      return 13\n",
    "    if d.find(\"sci.space\") > 0:\n",
    "      return 14\n",
    "    if d.find(\"soc.religion.christian\") > 0:\n",
    "      return 15\n",
    "    if d.find(\"talk.politics.guns\") > 0:\n",
    "      return 16\n",
    "    if d.find(\"talk.politics.mideast\") > 0:\n",
    "      return 17\n",
    "    if d.find(\"talk.politics.misc\") > 0:\n",
    "      return 18\n",
    "    if d.find(\"talk.religion.misc\") > 0:\n",
    "      return 19\n",
    "    return 'Other'"
   ]
  },
  {
   "cell_type": "code",
   "execution_count": 5,
   "metadata": {
    "collapsed": false
   },
   "outputs": [
    {
     "name": "stdout",
     "output_type": "stream",
     "text": [
      "[nltk_data] Downloading package stopwords to\n",
      "[nltk_data]     /home/notebook/nltk_data...\n",
      "[nltk_data]   Package stopwords is already up-to-date!\n"
     ]
    }
   ],
   "source": [
    "# Get stopword list\n",
    "import nltk\n",
    "# download required resources\n",
    "nltk.download(\"stopwords\")\n",
    "stopwords = set(nltk.corpus.stopwords.words('english'))"
   ]
  },
  {
   "cell_type": "code",
   "execution_count": 6,
   "metadata": {
    "collapsed": false
   },
   "outputs": [
    {
     "name": "stdout",
     "output_type": "stream",
     "text": [
      "processed 1 files\n",
      "processed 5001 files\n",
      "processed 10001 files\n",
      "processed 15001 files\n",
      "Finished processing files!\n",
      "\n"
     ]
    }
   ],
   "source": [
    "from collections import Counter\n",
    "import re\n",
    "import codecs\n",
    "counter = Counter()\n",
    "# Open the files and count the word frequency in each file in a loop and update the counter after finished processing a file\n",
    "for rownum, row in enumerate(directorydf.itertuples()):\n",
    "    with codecs.open(row.Directories,\"r\" ,encoding='utf-8', errors='ignore') as myfile:\n",
    "        # Counter modified from Lab 2 to convert strings to lower case, remove stop words, and remove single letter phrases\n",
    "        counter.update([word for word in re.findall(r'\\w+', myfile.read().lower()) if (word not in stopwords and len(word) > 1)])\n",
    "    if (rownum % 5000 == 0):\n",
    "        print(\"processed %d files\" % (rownum+1))\n",
    "print(\"Finished processing files!\\n\")"
   ]
  },
  {
   "cell_type": "code",
   "execution_count": 7,
   "metadata": {
    "collapsed": true
   },
   "outputs": [],
   "source": [
    "# Create features based on word frequency\n",
    "def countWordFrequency(topk, method = BINARY):\n",
    "    np = []\n",
    "    print(\"Starting file processing...\\n\")\n",
    "    # now we had top k words, count the frequecy (binary) of these words in individual file\n",
    "    for rownum, row in enumerate(directorydf.itertuples()):\n",
    "        with codecs.open(row.Directories,\"r\" ,encoding='utf-8', errors='ignore') as myfile:\n",
    "            tempCounter = Counter([word for word in re.findall(r'\\w+', myfile.read())])\n",
    "            \n",
    "            # Create features\n",
    "            topkinDoc = 0\n",
    "            if (method == TERM_FREQUENCY):\n",
    "                termCount = sum(tempCounter.values())\n",
    "                topkinDoc = [tempCounter[word]/termCount for (word,wordCount) in topk]\n",
    "            else:       \n",
    "                # if the word appears in the doc, then 1, else \n",
    "                topkinDoc = [1 if tempCounter[word] > 0 else 0 for (word,wordCount) in topk]\n",
    "                \n",
    "            # create a list for top k words with encoded target and its label\n",
    "            np.append(topkinDoc+[label_target(row.Directories)]+[row.Directories])\n",
    "            if (rownum % 5000 == 0):\n",
    "                print(\"processed %d files\" % (rownum+1))\n",
    "    \n",
    "    print(\"Finished processing files!\\n\")\n",
    "    return np"
   ]
  },
  {
   "cell_type": "code",
   "execution_count": 8,
   "metadata": {
    "collapsed": true
   },
   "outputs": [],
   "source": [
    "def createDataFrame(numCommonWords, method = BINARY):\n",
    "    # find top words occured most requent in the document\n",
    "    topk = counter.most_common(numCommonWords)\n",
    "\n",
    "    # Create dataframe of word labels and category labels\n",
    "    df = pandas.DataFrame(countWordFrequency(topk, method))\n",
    "    dfName = []\n",
    "    for c in topk:\n",
    "        dfName.append(c[0])\n",
    "    df.columns = dfName+['target','label']\n",
    "    \n",
    "    return df, dfName"
   ]
  },
  {
   "cell_type": "markdown",
   "metadata": {},
   "source": [
    "## Prepare Features for Regression"
   ]
  },
  {
   "cell_type": "code",
   "execution_count": 9,
   "metadata": {
    "collapsed": true
   },
   "outputs": [],
   "source": [
    "def splitFeaturesFromTarget(dataframe, featureHeaderList, targetHeader = 'target'):\n",
    "    # select feature attributes from pandas and convert into numpy array\n",
    "    features_df = dataframe[featureHeaderList]\n",
    "    features = features_df.as_matrix()\n",
    "    # select target attribute from pandas and convert into numpy array\n",
    "    target_df = dataframe[targetHeader]\n",
    "    target = target_df.as_matrix()\n",
    "    \n",
    "    return features, target"
   ]
  },
  {
   "cell_type": "markdown",
   "metadata": {},
   "source": [
    "## Multiclass Logistic Regression"
   ]
  },
  {
   "cell_type": "markdown",
   "metadata": {},
   "source": [
    "### 2.) Feature Selection"
   ]
  },
  {
   "cell_type": "code",
   "execution_count": 10,
   "metadata": {
    "collapsed": false
   },
   "outputs": [
    {
     "name": "stdout",
     "output_type": "stream",
     "text": [
      "Starting file processing...\n",
      "\n",
      "processed 1 files\n",
      "processed 5001 files\n",
      "processed 10001 files\n",
      "processed 15001 files\n",
      "Finished processing files!\n",
      "\n"
     ]
    }
   ],
   "source": [
    "# Determine starting number of frequent words to use as features\n",
    "k=1000\n",
    "newsgroupdf, dfName = createDataFrame(k)\n",
    "features, target = splitFeaturesFromTarget(newsgroupdf, dfName)"
   ]
  },
  {
   "cell_type": "code",
   "execution_count": 11,
   "metadata": {
    "collapsed": false
   },
   "outputs": [],
   "source": [
    "# Determine effect of only using top k features\n",
    "numFeatures = [100*i for i in range(1,11)]\n",
    "def tuneFeatSel(features, target, classifier = LOGISTIC_REGRESSION):\n",
    "    featTrainAcc = []\n",
    "    featTestAcc = []\n",
    "\n",
    "    # separate datasets into training and test datasets once, no folding\n",
    "    features_train, features_test, target_train, target_test = train_test_split(features, target, test_size=0.3)\n",
    "\n",
    "    for k in numFeatures:\n",
    "        clfModel = ''\n",
    "        if(classifier == NAIVE_BAYES):\n",
    "            gnb = MultinomialNB()\n",
    "            clfModel = gnb.fit(features_train[:,:k], target_train)\n",
    "        else:\n",
    "            # use log reg classifier\n",
    "            clf = LogisticRegression()\n",
    "            # train the features and target datasets and fit to a model\n",
    "            clfModel = clf.fit(features_train[:,:k], target_train)\n",
    "            # predict target with feature test set using trained model\n",
    "        target_pred = clfModel.predict(features_test[:,:k])\n",
    "\n",
    "        # Calculate accuracy score, and store it\n",
    "        featTrainAcc.append(metrics.accuracy_score(target_train, clfModel.predict(features_train[:,:k])))\n",
    "        score = metrics.accuracy_score(target_test, target_pred)\n",
    "        featTestAcc.append(score)\n",
    "        print(\"The accuracy score for using the top %d words is\"  % k, score)\n",
    "    \n",
    "    return featTrainAcc, featTestAcc"
   ]
  },
  {
   "cell_type": "code",
   "execution_count": 12,
   "metadata": {
    "collapsed": false
   },
   "outputs": [
    {
     "name": "stdout",
     "output_type": "stream",
     "text": [
      "The accuracy score for using the top 100 words is 0.670166666667\n",
      "The accuracy score for using the top 200 words is 0.814166666667\n",
      "The accuracy score for using the top 300 words is 0.893166666667\n",
      "The accuracy score for using the top 400 words is 0.946833333333\n",
      "The accuracy score for using the top 500 words is 0.946\n",
      "The accuracy score for using the top 600 words is 0.944333333333\n",
      "The accuracy score for using the top 700 words is 0.944833333333\n",
      "The accuracy score for using the top 800 words is 0.945166666667\n",
      "The accuracy score for using the top 900 words is 0.945333333333\n",
      "The accuracy score for using the top 1000 words is 0.9445\n"
     ]
    }
   ],
   "source": [
    "featTrainAcc, featTestAcc = tuneFeatSel(features, target)"
   ]
  },
  {
   "cell_type": "code",
   "execution_count": 13,
   "metadata": {
    "collapsed": false
   },
   "outputs": [
    {
     "data": {
      "image/png": "[encoded data removed]",
      "text/plain": [
       "<matplotlib.figure.Figure at 0x7f0c1c255160>"
      ]
     },
     "metadata": {},
     "output_type": "display_data"
    }
   ],
   "source": [
    "# plot the accuracy scores for each value of k\n",
    "ax = plt.subplot(111)\n",
    "ax.plot(numFeatures, featTrainAcc, c='b')\n",
    "ax.plot(numFeatures, featTestAcc, c='r')\n",
    "plt.xticks(numFeatures)\n",
    "plt.title(\"Top K Words\")\n",
    "ax.set_ylabel('Score accuracy')\n",
    "ax.set_xlabel('K (Number of Words)')\n",
    "plt.show()"
   ]
  },
  {
   "cell_type": "markdown",
   "metadata": {},
   "source": [
    "2.a) Based on the results above, selecting the top 400 common words across the corpus (ignoring stop words, and words shorter than one character) will give a fairly accurate predictive model of determining categories with decent performance speed.  Accuracy appears to plateau after this point, while performance starts to suffer.  This works fairly well because the sample size of checked words is sufficiently large to be able to encompass phrases unique to each topic."
   ]
  },
  {
   "cell_type": "markdown",
   "metadata": {},
   "source": [
    "2.b) To automatically determine this number, the number of top words used, k,  was varied, and the overall performance score of the resulting model was compared.  The optimal number of k was selected at a point where performance gains dropped off.  In other words, k was selected such that increasing k would only slow down performance without increasing the accuracy of the model.  As seen in the example above, all tests after 400 words have comparable results."
   ]
  },
  {
   "cell_type": "markdown",
   "metadata": {},
   "source": [
    "2.c) The plot shows a quick convergence to the peak performance score in both the test and training sets, as number of features k is varied.  Both show this peak is reached at k=400.  The high training shows that an accurate model was able to be generated when it uses data it has seen before (the training data), while the high test score shows that the model generalizes well (ie. The model is not overfitted to the training data)."
   ]
  },
  {
   "cell_type": "markdown",
   "metadata": {},
   "source": [
    "### 3.) Tune Hyperparameters"
   ]
  },
  {
   "cell_type": "code",
   "execution_count": 14,
   "metadata": {
    "collapsed": false
   },
   "outputs": [],
   "source": [
    "# Determine effect of adjusting hyperparameter C\n",
    "parameterList = [10**(i-4) for i in range(0,9)]\n",
    "def tuneHyperPara(features, target, classifier = LOGISTIC_REGRESSION):\n",
    "    hypTrainAcc = []\n",
    "    hypTestAcc = []\n",
    "\n",
    "    # separate datasets into training and test datasets once, no folding\n",
    "    features_train, features_test, target_train, target_test = train_test_split(features, target, test_size=0.3)\n",
    "\n",
    "    for para in parameterList:\n",
    "        clfModel = ''\n",
    "        \n",
    "        if(classifier == NAIVE_BAYES):\n",
    "            # use Naive Bayes classifier\n",
    "            gnb = MultinomialNB(alpha = para)\n",
    "            clfModel = gnb.fit(features_train, target_train)\n",
    "        else:\n",
    "            # use log reg classifier\n",
    "            clf = LogisticRegression(C = para)\n",
    "            # train the features and target datasets and fit to a model\n",
    "            clfModel = clf.fit(features_train, target_train)\n",
    "        # predict target with feature test set using trained model\n",
    "        target_pred = clfModel.predict(features_test)\n",
    "\n",
    "        # Calculate accuracy score, and store it\n",
    "        hypTrainAcc.append(metrics.accuracy_score(target_train, clfModel.predict(features_train)))\n",
    "        score = metrics.accuracy_score(target_test, target_pred)\n",
    "        hypTestAcc.append(score)\n",
    "        print(\"The accuracy score for using hyperparameter = %f is\"  % para, score)\n",
    "\n",
    "    return hypTrainAcc, hypTestAcc"
   ]
  },
  {
   "cell_type": "code",
   "execution_count": 15,
   "metadata": {
    "collapsed": false
   },
   "outputs": [
    {
     "name": "stdout",
     "output_type": "stream",
     "text": [
      "The accuracy score for using hyperparameter = 0.000100 is 0.912333333333\n",
      "The accuracy score for using hyperparameter = 0.001000 is 0.944666666667\n",
      "The accuracy score for using hyperparameter = 0.010000 is 0.960333333333\n",
      "The accuracy score for using hyperparameter = 0.100000 is 0.958\n",
      "The accuracy score for using hyperparameter = 1.000000 is 0.951833333333\n",
      "The accuracy score for using hyperparameter = 10.000000 is 0.9485\n",
      "The accuracy score for using hyperparameter = 100.000000 is 0.9455\n",
      "The accuracy score for using hyperparameter = 1000.000000 is 0.943833333333\n",
      "The accuracy score for using hyperparameter = 10000.000000 is 0.9425\n"
     ]
    }
   ],
   "source": [
    "k = 400\n",
    "hypTrainAcc, hypTestAcc = tuneHyperPara(features[:, :k], target)"
   ]
  },
  {
   "cell_type": "code",
   "execution_count": 16,
   "metadata": {
    "collapsed": false
   },
   "outputs": [
    {
     "data": {
      "image/png": "[encoded data removed]",
      "text/plain": [
       "<matplotlib.figure.Figure at 0x7f0c1c1ddf60>"
      ]
     },
     "metadata": {},
     "output_type": "display_data"
    }
   ],
   "source": [
    "# plot the accuracy scores for each value of c\n",
    "ax2 = plt.subplot(111)\n",
    "ax2.plot(parameterList, hypTrainAcc, c='b')\n",
    "ax2.plot(parameterList, hypTestAcc, c='r')\n",
    "plt.xticks(parameterList)\n",
    "plt.title(\"Hyperparameter Tuning\")\n",
    "ax2.set_ylabel('Score accuracy')\n",
    "ax2.set_xlabel('C (Logistic Regression Parameter)')\n",
    "ax2.set_xscale('log')\n",
    "plt.show() "
   ]
  },
  {
   "cell_type": "markdown",
   "metadata": {},
   "source": [
    "3.a) The plot shows that model performance peaks at c = 0.01, then diverges as it increases from there.  This would indicate that changing the default paramter from c = 1 to c = 0.01 would give a slight increase in performance.  Also, any c value beyond c= 0.01 would cause the model to overfit, and generalize poorly with unseen data."
   ]
  },
  {
   "cell_type": "markdown",
   "metadata": {},
   "source": [
    "### 4.) Amount of Data"
   ]
  },
  {
   "cell_type": "code",
   "execution_count": 17,
   "metadata": {
    "collapsed": false
   },
   "outputs": [
    {
     "name": "stdout",
     "output_type": "stream",
     "text": [
      "The accuracy score for using 10 percent of the data is 0.927\n",
      "The accuracy score for using 20 percent of the data is 0.946666666667\n",
      "The accuracy score for using 30 percent of the data is 0.952833333333\n",
      "The accuracy score for using 40 percent of the data is 0.953833333333\n",
      "The accuracy score for using 50 percent of the data is 0.954333333333\n",
      "The accuracy score for using 60 percent of the data is 0.955\n",
      "The accuracy score for using 70 percent of the data is 0.954833333333\n",
      "The accuracy score for using 80 percent of the data is 0.954833333333\n",
      "The accuracy score for using 90 percent of the data is 0.954833333333\n",
      "The accuracy score for using 100 percent of the data is 0.954833333333\n"
     ]
    }
   ],
   "source": [
    "# Determine effect of adjusting amount of training data used\n",
    "dataAmount = [0.1*i for i in range(1,11)]\n",
    "k = 400\n",
    "c = 0.01\n",
    "amtTrainAcc = []\n",
    "amtTestAcc = []\n",
    "\n",
    "# separate datasets into training and test datasets once, no folding\n",
    "features_train, features_test, target_train, target_test = train_test_split(features[:,:k], target, test_size=0.3)\n",
    "\n",
    "for p in dataAmount:\n",
    "    dataIndex = round(len(features)*p)\n",
    "    # use log reg classifier\n",
    "    clf = LogisticRegression(C = c)\n",
    "    # train the features and target datasets and fit to a model\n",
    "    clfModel = clf.fit(features_train[:dataIndex,:], target_train[:dataIndex])\n",
    "    # predict target with feature test set using trained model\n",
    "    target_pred = clfModel.predict(features_test)\n",
    "    \n",
    "    # Calculate accuracy score, and store it\n",
    "    amtTrainAcc.append(metrics.accuracy_score(target_train[:dataIndex], clfModel.predict(features_train[:dataIndex,:])))\n",
    "    score = metrics.accuracy_score(target_test, target_pred)\n",
    "    amtTestAcc.append(score)\n",
    "    print(\"The accuracy score for using %d percent of the data is\"  % round(p*100), score)"
   ]
  },
  {
   "cell_type": "code",
   "execution_count": 18,
   "metadata": {
    "collapsed": false
   },
   "outputs": [
    {
     "data": {
      "image/png": "[encoded data removed]",
      "text/plain": [
       "<matplotlib.figure.Figure at 0x7f0bfe5f1668>"
      ]
     },
     "metadata": {},
     "output_type": "display_data"
    }
   ],
   "source": [
    "# plot the accuract scores for each data percentage value\n",
    "ax3 = plt.subplot(111)\n",
    "ax3.plot(dataAmount, amtTrainAcc, c='b')\n",
    "ax3.plot(dataAmount, amtTestAcc, c='r')\n",
    "plt.xticks(dataAmount)\n",
    "plt.title(\"Data Amount Tuning\")\n",
    "ax3.set_ylabel('Score accuracy')\n",
    "ax3.set_xlabel('% of Training Data Used (1 = 100%)')\n",
    "plt.show() "
   ]
  },
  {
   "cell_type": "markdown",
   "metadata": {},
   "source": [
    "4.a) The graph shows that in general, the more data available to train the model, the better.  Some runs show better performance using less data, but this is due to overfitting the model to the training data, as seen by the huge difference between the training and test accuracy scores.  Accuracy scores eventually stabalize once the model has been provided enough variety in samples to generalize a solution."
   ]
  },
  {
   "cell_type": "markdown",
   "metadata": {},
   "source": [
    "### 5.) Feature Encoding"
   ]
  },
  {
   "cell_type": "code",
   "execution_count": 19,
   "metadata": {
    "collapsed": false
   },
   "outputs": [
    {
     "name": "stdout",
     "output_type": "stream",
     "text": [
      "Starting file processing...\n",
      "\n",
      "processed 1 files\n",
      "processed 5001 files\n",
      "processed 10001 files\n",
      "processed 15001 files\n",
      "Finished processing files!\n",
      "\n"
     ]
    }
   ],
   "source": [
    "# Create dataframe for TF encoded vector\n",
    "k = 400\n",
    "newsgroupTfdf, dfTfName = createDataFrame(k, method = TERM_FREQUENCY)\n",
    "featuresTf, targetTf = splitFeaturesFromTarget(newsgroupTfdf, dfTfName)"
   ]
  },
  {
   "cell_type": "code",
   "execution_count": 20,
   "metadata": {
    "collapsed": false
   },
   "outputs": [
    {
     "data": {
      "text/html": [
       "<div>\n",
       "<table border=\"1\" class=\"dataframe\">\n",
       "  <thead>\n",
       "    <tr style=\"text-align: right;\">\n",
       "      <th></th>\n",
       "      <th>edu</th>\n",
       "      <th>ax</th>\n",
       "      <th>cmu</th>\n",
       "      <th>com</th>\n",
       "      <th>cs</th>\n",
       "      <th>news</th>\n",
       "      <th>srv</th>\n",
       "      <th>cantaloupe</th>\n",
       "      <th>net</th>\n",
       "      <th>message</th>\n",
       "      <th>...</th>\n",
       "      <th>colorado</th>\n",
       "      <th>children</th>\n",
       "      <th>left</th>\n",
       "      <th>opinions</th>\n",
       "      <th>away</th>\n",
       "      <th>wed</th>\n",
       "      <th>given</th>\n",
       "      <th>start</th>\n",
       "      <th>target</th>\n",
       "      <th>label</th>\n",
       "    </tr>\n",
       "  </thead>\n",
       "  <tbody>\n",
       "    <tr>\n",
       "      <th>0</th>\n",
       "      <td>1</td>\n",
       "      <td>0</td>\n",
       "      <td>1</td>\n",
       "      <td>0</td>\n",
       "      <td>1</td>\n",
       "      <td>1</td>\n",
       "      <td>1</td>\n",
       "      <td>1</td>\n",
       "      <td>1</td>\n",
       "      <td>0</td>\n",
       "      <td>...</td>\n",
       "      <td>0</td>\n",
       "      <td>0</td>\n",
       "      <td>0</td>\n",
       "      <td>0</td>\n",
       "      <td>0</td>\n",
       "      <td>0</td>\n",
       "      <td>0</td>\n",
       "      <td>0</td>\n",
       "      <td>13</td>\n",
       "      <td>/resources/data/20_newsgroups/sci.med/59488</td>\n",
       "    </tr>\n",
       "  </tbody>\n",
       "</table>\n",
       "<p>1 rows × 402 columns</p>\n",
       "</div>"
      ],
      "text/plain": [
       "   edu  ax  cmu  com  cs  news  srv  cantaloupe  net  message  \\\n",
       "0    1   0    1    0   1     1    1           1    1        0   \n",
       "\n",
       "                      ...                       colorado  children  left  \\\n",
       "0                     ...                              0         0     0   \n",
       "\n",
       "   opinions  away  wed  given  start  target  \\\n",
       "0         0     0    0      0      0      13   \n",
       "\n",
       "                                         label  \n",
       "0  /resources/data/20_newsgroups/sci.med/59488  \n",
       "\n",
       "[1 rows x 402 columns]"
      ]
     },
     "execution_count": 20,
     "metadata": {},
     "output_type": "execute_result"
    }
   ],
   "source": [
    "newsgroupdf[dfTfName+['target','label']].head(n=1)"
   ]
  },
  {
   "cell_type": "code",
   "execution_count": 21,
   "metadata": {
    "collapsed": false
   },
   "outputs": [
    {
     "data": {
      "text/html": [
       "<div>\n",
       "<table border=\"1\" class=\"dataframe\">\n",
       "  <thead>\n",
       "    <tr style=\"text-align: right;\">\n",
       "      <th></th>\n",
       "      <th>edu</th>\n",
       "      <th>ax</th>\n",
       "      <th>cmu</th>\n",
       "      <th>com</th>\n",
       "      <th>cs</th>\n",
       "      <th>news</th>\n",
       "      <th>srv</th>\n",
       "      <th>cantaloupe</th>\n",
       "      <th>net</th>\n",
       "      <th>message</th>\n",
       "      <th>...</th>\n",
       "      <th>colorado</th>\n",
       "      <th>children</th>\n",
       "      <th>left</th>\n",
       "      <th>opinions</th>\n",
       "      <th>away</th>\n",
       "      <th>wed</th>\n",
       "      <th>given</th>\n",
       "      <th>start</th>\n",
       "      <th>target</th>\n",
       "      <th>label</th>\n",
       "    </tr>\n",
       "  </thead>\n",
       "  <tbody>\n",
       "    <tr>\n",
       "      <th>0</th>\n",
       "      <td>0.007009</td>\n",
       "      <td>0.0</td>\n",
       "      <td>0.000584</td>\n",
       "      <td>0.0</td>\n",
       "      <td>0.000584</td>\n",
       "      <td>0.001168</td>\n",
       "      <td>0.000584</td>\n",
       "      <td>0.000584</td>\n",
       "      <td>0.001168</td>\n",
       "      <td>0.0</td>\n",
       "      <td>...</td>\n",
       "      <td>0.0</td>\n",
       "      <td>0.0</td>\n",
       "      <td>0.0</td>\n",
       "      <td>0.0</td>\n",
       "      <td>0.0</td>\n",
       "      <td>0.0</td>\n",
       "      <td>0.0</td>\n",
       "      <td>0.0</td>\n",
       "      <td>13</td>\n",
       "      <td>/resources/data/20_newsgroups/sci.med/59488</td>\n",
       "    </tr>\n",
       "  </tbody>\n",
       "</table>\n",
       "<p>1 rows × 402 columns</p>\n",
       "</div>"
      ],
      "text/plain": [
       "        edu   ax       cmu  com        cs      news       srv  cantaloupe  \\\n",
       "0  0.007009  0.0  0.000584  0.0  0.000584  0.001168  0.000584    0.000584   \n",
       "\n",
       "        net  message                     ...                       colorado  \\\n",
       "0  0.001168      0.0                     ...                            0.0   \n",
       "\n",
       "   children  left  opinions  away  wed  given  start  target  \\\n",
       "0       0.0   0.0       0.0   0.0  0.0    0.0    0.0      13   \n",
       "\n",
       "                                         label  \n",
       "0  /resources/data/20_newsgroups/sci.med/59488  \n",
       "\n",
       "[1 rows x 402 columns]"
      ]
     },
     "execution_count": 21,
     "metadata": {},
     "output_type": "execute_result"
    }
   ],
   "source": [
    "newsgroupTfdf.head(n=1)"
   ]
  },
  {
   "cell_type": "markdown",
   "metadata": {},
   "source": [
    "5.a) See above for the vector representation of both binary and TF encoding (not normalized to a unit vector)."
   ]
  },
  {
   "cell_type": "markdown",
   "metadata": {},
   "source": [
    "#### k-fold Cross Validation"
   ]
  },
  {
   "cell_type": "code",
   "execution_count": 22,
   "metadata": {
    "collapsed": true
   },
   "outputs": [],
   "source": [
    "labelList = newsgroupdf['target'].unique()\n",
    "# Cross validation with k folds\n",
    "def kFoldCVTests(features, target, hypPara, folds, ci , classifier = LOGISTIC_REGRESSION, labels=labelList, printTrialScore=False):\n",
    "    cms = {}\n",
    "    scores   = []\n",
    "    cv = StratifiedKFold(target, n_folds=folds)\n",
    "    for i, (train, test) in enumerate(cv):\n",
    "        clfModel = ''\n",
    "        \n",
    "        if(classifier == NAIVE_BAYES):\n",
    "            gnb = MultinomialNB(alpha=hypPara)\n",
    "            clfModel = gnb.fit(features[train], target[train])\n",
    "        else:     \n",
    "            # use log reg classifier\n",
    "            clf = LogisticRegression(C=hypPara)\n",
    "            # train then immediately predict the test set\n",
    "            clfModel = clf.fit(features[train], target[train])\n",
    "            \n",
    "        target_pred = clfModel.predict(features[test])\n",
    "        \n",
    "        # compute the confusion matrix on each fold, convert it to a DataFrame and stash it for later compute\n",
    "        cms[i] = pandas.DataFrame(metrics.confusion_matrix(target[test], target_pred), columns=labels, index=labels)\n",
    "        # stash the overall accuracy on the test set for the fold too\n",
    "        score = metrics.accuracy_score(target[test], target_pred)\n",
    "        scores.append(score)\n",
    "        \n",
    "        if (printTrialScore):\n",
    "            print(\"The accuracy score for trial %d is\" % i, score)\n",
    "\n",
    "    print(\"The average of accuracy score for %d stratified folds is\" % folds,np.mean(scores))\n",
    "    print(\"The std dev of accuracy score for %d stratified folds is\" % folds,np.std(scores))\n",
    "    print(\"The std error of the mean accuracy score for %d stratified folds is\" % folds,stats.sem(scores))\n",
    "    print(\"The %d percent confidence interval range is\" % round(ci*100), st.t.interval(ci, len(scores)-1, loc=np.mean(scores), scale=st.sem(scores)))\n",
    "    \n",
    "    return cms"
   ]
  },
  {
   "cell_type": "code",
   "execution_count": 23,
   "metadata": {
    "collapsed": false
   },
   "outputs": [
    {
     "name": "stdout",
     "output_type": "stream",
     "text": [
      "The accuracy score for trial 0 is 0.9525\n",
      "The accuracy score for trial 1 is 0.955\n",
      "The accuracy score for trial 2 is 0.9545\n",
      "The accuracy score for trial 3 is 0.961\n",
      "The accuracy score for trial 4 is 0.958\n",
      "The accuracy score for trial 5 is 0.9605\n",
      "The accuracy score for trial 6 is 0.9525\n",
      "The accuracy score for trial 7 is 0.96148074037\n",
      "The accuracy score for trial 8 is 0.955477738869\n",
      "The accuracy score for trial 9 is 0.95847923962\n",
      "The average of accuracy score for 10 stratified folds is 0.956943771886\n",
      "The std dev of accuracy score for 10 stratified folds is 0.00323343234133\n",
      "The std error of the mean accuracy score for 10 stratified folds is 0.00107781078044\n",
      "The 95 percent confidence interval range is (0.95450559450888639, 0.95938194926299947)\n"
     ]
    }
   ],
   "source": [
    "folds = 10\n",
    "ci = 0.95\n",
    "# k-fold Cross Validation for Binary encoding\n",
    "binaryCms = kFoldCVTests(features[:,:k],target, 0.01, folds, ci, printTrialScore = True)"
   ]
  },
  {
   "cell_type": "markdown",
   "metadata": {},
   "source": [
    "##### Compare with TF Model"
   ]
  },
  {
   "cell_type": "markdown",
   "metadata": {},
   "source": [
    "###### Not Normalized TF Model"
   ]
  },
  {
   "cell_type": "code",
   "execution_count": 24,
   "metadata": {
    "collapsed": false
   },
   "outputs": [
    {
     "name": "stdout",
     "output_type": "stream",
     "text": [
      "The accuracy score for using hyperparameter = 0.000100 is 0.045\n",
      "The accuracy score for using hyperparameter = 0.001000 is 0.045\n",
      "The accuracy score for using hyperparameter = 0.010000 is 0.045\n",
      "The accuracy score for using hyperparameter = 0.100000 is 0.139166666667\n",
      "The accuracy score for using hyperparameter = 1.000000 is 0.488666666667\n",
      "The accuracy score for using hyperparameter = 10.000000 is 0.749166666667\n",
      "The accuracy score for using hyperparameter = 100.000000 is 0.9125\n",
      "The accuracy score for using hyperparameter = 1000.000000 is 0.9415\n",
      "The accuracy score for using hyperparameter = 10000.000000 is 0.943333333333\n"
     ]
    }
   ],
   "source": [
    "# Determine effect of adjusting hyperparamter C for TF model (not normalized)\n",
    "hypTrainAccTf, hypTestAccTf = tuneHyperPara(featuresTf, targetTf)"
   ]
  },
  {
   "cell_type": "code",
   "execution_count": 25,
   "metadata": {
    "collapsed": false
   },
   "outputs": [
    {
     "name": "stdout",
     "output_type": "stream",
     "text": [
      "The average of accuracy score for 10 stratified folds is 0.948141970985\n",
      "The std dev of accuracy score for 10 stratified folds is 0.0038573950315\n",
      "The std error of the mean accuracy score for 10 stratified folds is 0.00128579834383\n",
      "The 95 percent confidence interval range is (0.94523329305214832, 0.95105064891883728)\n"
     ]
    }
   ],
   "source": [
    "# k-fold Cross Validation for TF encoding (No normalization)\n",
    "cTf = 10000\n",
    "tfCms = kFoldCVTests(featuresTf, targetTf, cTf, folds, ci)"
   ]
  },
  {
   "cell_type": "code",
   "execution_count": 26,
   "metadata": {
    "collapsed": false
   },
   "outputs": [],
   "source": [
    "# Convert all datum to unit vectors to normalize for document length\n",
    "def normalizeFeatures(features):\n",
    "    normFeatures = []\n",
    "    \n",
    "    for row in features:\n",
    "        mag = np.linalg.norm(row)\n",
    "        normRow = []\n",
    "        \n",
    "        for val in row:\n",
    "            normRow.append(val/mag)\n",
    "            \n",
    "        normFeatures.append(normRow)\n",
    "    return np.array(normFeatures)\n",
    "\n",
    "# Convert feature vectors to unit vectors to normalize for document length\n",
    "normFeatures = normalizeFeatures(featuresTf)"
   ]
  },
  {
   "cell_type": "markdown",
   "metadata": {},
   "source": [
    "###### Normalized TF Vectors"
   ]
  },
  {
   "cell_type": "code",
   "execution_count": 27,
   "metadata": {
    "collapsed": false,
    "scrolled": true
   },
   "outputs": [
    {
     "name": "stdout",
     "output_type": "stream",
     "text": [
      "The accuracy score for using hyperparameter = 0.000100 is 0.486\n",
      "The accuracy score for using hyperparameter = 0.001000 is 0.648666666667\n",
      "The accuracy score for using hyperparameter = 0.010000 is 0.7495\n",
      "The accuracy score for using hyperparameter = 0.100000 is 0.876166666667\n",
      "The accuracy score for using hyperparameter = 1.000000 is 0.941666666667\n",
      "The accuracy score for using hyperparameter = 10.000000 is 0.951333333333\n",
      "The accuracy score for using hyperparameter = 100.000000 is 0.949166666667\n",
      "The accuracy score for using hyperparameter = 1000.000000 is 0.94\n",
      "The accuracy score for using hyperparameter = 10000.000000 is 0.927666666667\n"
     ]
    }
   ],
   "source": [
    "# Determine effect of adjusting hyperparameter C for TF model (normalized vectors)\n",
    "hypTrainAccTfNorm, hypTestAccTfNorm = tuneHyperPara(normFeatures, targetTf)"
   ]
  },
  {
   "cell_type": "code",
   "execution_count": 28,
   "metadata": {
    "collapsed": false
   },
   "outputs": [
    {
     "name": "stdout",
     "output_type": "stream",
     "text": [
      "The average of accuracy score for 10 stratified folds is 0.950242346173\n",
      "The std dev of accuracy score for 10 stratified folds is 0.0022653854874\n",
      "The std error of the mean accuracy score for 10 stratified folds is 0.000755128495801\n",
      "The 95 percent confidence interval range is (0.94853412683752003, 0.95195056550865309)\n"
     ]
    }
   ],
   "source": [
    "# k-fold Cross Validation for TF encoding (Normalized)\n",
    "cTfNorm = 10\n",
    "normTfCms = kFoldCVTests(normFeatures, targetTf, cTfNorm, folds, ci)"
   ]
  },
  {
   "cell_type": "markdown",
   "metadata": {},
   "source": [
    "5.b) The binary encoded model (c=0.01) performs slightly better than the normalized term-frequency encoded model (c=10), which performed slightly better than the non-normalized term-frequency model (c=10000).  However, the TF models require significantly more regularization (higher c values), which would be akin to increasing the polynomial order in a linear equation.\n",
    "\n",
    "The term frequency models may be performing worse in this case because they may be going to more detail than needed in order to identify the correct classification label (ie. Binary encoding may be sufficent for this domain).  This additional detail may cause the clusters less distinct.  Also, the non-normalized version needs a lot of regularization in order for it to work in order to compensate for document lengh."
   ]
  },
  {
   "cell_type": "markdown",
   "metadata": {},
   "source": [
    "## General Performance"
   ]
  },
  {
   "cell_type": "markdown",
   "metadata": {},
   "source": [
    "1a.) The chosen settings are: Binary encoding of the top 400 common words as features (excluding nltk stop-words, and words shorter than 1 character), C = 0.01 and use of all training data. "
   ]
  },
  {
   "cell_type": "markdown",
   "metadata": {},
   "source": [
    "1b.) See results above for average accuracy score over 10 stratified folds, the individual scores for each trial, and the 95% confidence interval."
   ]
  },
  {
   "cell_type": "markdown",
   "metadata": {},
   "source": [
    "1c.) The average accuracy score is a guess as to what how well the model performs, while the 95% confidence interval indicates a range of values which indicates the true performance of the model with 95% certainty.  These are more informative than a single trial as they correct for any bias that may occur through lucky configurations in the training/test data split."
   ]
  },
  {
   "cell_type": "markdown",
   "metadata": {},
   "source": [
    "1d.) The train accuracy is always higher than the test accuracy.  This is because the train accuracy is using data that it has already saw, and has trained the model on, while the test accuacy is using data not yet seen by the model.  As a result, the test accuracy is testing to see how well the model generalizes."
   ]
  },
  {
   "cell_type": "code",
   "execution_count": 29,
   "metadata": {
    "collapsed": false
   },
   "outputs": [
    {
     "data": {
      "text/html": [
       "<div>\n",
       "<table border=\"1\" class=\"dataframe\">\n",
       "  <thead>\n",
       "    <tr style=\"text-align: right;\">\n",
       "      <th></th>\n",
       "      <th>13</th>\n",
       "      <th>3</th>\n",
       "      <th>10</th>\n",
       "      <th>0</th>\n",
       "      <th>12</th>\n",
       "      <th>15</th>\n",
       "      <th>2</th>\n",
       "      <th>5</th>\n",
       "      <th>11</th>\n",
       "      <th>19</th>\n",
       "      <th>9</th>\n",
       "      <th>16</th>\n",
       "      <th>7</th>\n",
       "      <th>4</th>\n",
       "      <th>6</th>\n",
       "      <th>17</th>\n",
       "      <th>8</th>\n",
       "      <th>1</th>\n",
       "      <th>18</th>\n",
       "      <th>14</th>\n",
       "    </tr>\n",
       "  </thead>\n",
       "  <tbody>\n",
       "    <tr>\n",
       "      <th>13</th>\n",
       "      <td>798</td>\n",
       "      <td>0</td>\n",
       "      <td>0</td>\n",
       "      <td>0</td>\n",
       "      <td>0</td>\n",
       "      <td>0</td>\n",
       "      <td>0</td>\n",
       "      <td>0</td>\n",
       "      <td>0</td>\n",
       "      <td>0</td>\n",
       "      <td>0</td>\n",
       "      <td>1</td>\n",
       "      <td>0</td>\n",
       "      <td>0</td>\n",
       "      <td>0</td>\n",
       "      <td>0</td>\n",
       "      <td>0</td>\n",
       "      <td>0</td>\n",
       "      <td>0</td>\n",
       "      <td>201</td>\n",
       "    </tr>\n",
       "    <tr>\n",
       "      <th>3</th>\n",
       "      <td>0</td>\n",
       "      <td>961</td>\n",
       "      <td>10</td>\n",
       "      <td>9</td>\n",
       "      <td>3</td>\n",
       "      <td>14</td>\n",
       "      <td>1</td>\n",
       "      <td>0</td>\n",
       "      <td>0</td>\n",
       "      <td>0</td>\n",
       "      <td>0</td>\n",
       "      <td>0</td>\n",
       "      <td>0</td>\n",
       "      <td>1</td>\n",
       "      <td>1</td>\n",
       "      <td>0</td>\n",
       "      <td>0</td>\n",
       "      <td>0</td>\n",
       "      <td>0</td>\n",
       "      <td>0</td>\n",
       "    </tr>\n",
       "    <tr>\n",
       "      <th>10</th>\n",
       "      <td>0</td>\n",
       "      <td>0</td>\n",
       "      <td>1000</td>\n",
       "      <td>0</td>\n",
       "      <td>0</td>\n",
       "      <td>0</td>\n",
       "      <td>0</td>\n",
       "      <td>0</td>\n",
       "      <td>0</td>\n",
       "      <td>0</td>\n",
       "      <td>0</td>\n",
       "      <td>0</td>\n",
       "      <td>0</td>\n",
       "      <td>0</td>\n",
       "      <td>0</td>\n",
       "      <td>0</td>\n",
       "      <td>0</td>\n",
       "      <td>0</td>\n",
       "      <td>0</td>\n",
       "      <td>0</td>\n",
       "    </tr>\n",
       "    <tr>\n",
       "      <th>0</th>\n",
       "      <td>0</td>\n",
       "      <td>0</td>\n",
       "      <td>6</td>\n",
       "      <td>993</td>\n",
       "      <td>0</td>\n",
       "      <td>0</td>\n",
       "      <td>1</td>\n",
       "      <td>0</td>\n",
       "      <td>0</td>\n",
       "      <td>0</td>\n",
       "      <td>0</td>\n",
       "      <td>0</td>\n",
       "      <td>0</td>\n",
       "      <td>0</td>\n",
       "      <td>0</td>\n",
       "      <td>0</td>\n",
       "      <td>0</td>\n",
       "      <td>0</td>\n",
       "      <td>0</td>\n",
       "      <td>0</td>\n",
       "    </tr>\n",
       "    <tr>\n",
       "      <th>12</th>\n",
       "      <td>0</td>\n",
       "      <td>0</td>\n",
       "      <td>1</td>\n",
       "      <td>10</td>\n",
       "      <td>988</td>\n",
       "      <td>0</td>\n",
       "      <td>1</td>\n",
       "      <td>0</td>\n",
       "      <td>0</td>\n",
       "      <td>0</td>\n",
       "      <td>0</td>\n",
       "      <td>0</td>\n",
       "      <td>0</td>\n",
       "      <td>0</td>\n",
       "      <td>0</td>\n",
       "      <td>0</td>\n",
       "      <td>0</td>\n",
       "      <td>0</td>\n",
       "      <td>0</td>\n",
       "      <td>0</td>\n",
       "    </tr>\n",
       "    <tr>\n",
       "      <th>15</th>\n",
       "      <td>0</td>\n",
       "      <td>28</td>\n",
       "      <td>9</td>\n",
       "      <td>14</td>\n",
       "      <td>1</td>\n",
       "      <td>946</td>\n",
       "      <td>2</td>\n",
       "      <td>0</td>\n",
       "      <td>0</td>\n",
       "      <td>0</td>\n",
       "      <td>0</td>\n",
       "      <td>0</td>\n",
       "      <td>0</td>\n",
       "      <td>0</td>\n",
       "      <td>0</td>\n",
       "      <td>0</td>\n",
       "      <td>0</td>\n",
       "      <td>0</td>\n",
       "      <td>0</td>\n",
       "      <td>0</td>\n",
       "    </tr>\n",
       "    <tr>\n",
       "      <th>2</th>\n",
       "      <td>0</td>\n",
       "      <td>0</td>\n",
       "      <td>0</td>\n",
       "      <td>7</td>\n",
       "      <td>3</td>\n",
       "      <td>0</td>\n",
       "      <td>983</td>\n",
       "      <td>2</td>\n",
       "      <td>2</td>\n",
       "      <td>0</td>\n",
       "      <td>0</td>\n",
       "      <td>0</td>\n",
       "      <td>3</td>\n",
       "      <td>0</td>\n",
       "      <td>0</td>\n",
       "      <td>0</td>\n",
       "      <td>0</td>\n",
       "      <td>0</td>\n",
       "      <td>0</td>\n",
       "      <td>0</td>\n",
       "    </tr>\n",
       "    <tr>\n",
       "      <th>5</th>\n",
       "      <td>0</td>\n",
       "      <td>0</td>\n",
       "      <td>0</td>\n",
       "      <td>0</td>\n",
       "      <td>0</td>\n",
       "      <td>0</td>\n",
       "      <td>6</td>\n",
       "      <td>991</td>\n",
       "      <td>0</td>\n",
       "      <td>0</td>\n",
       "      <td>0</td>\n",
       "      <td>0</td>\n",
       "      <td>3</td>\n",
       "      <td>0</td>\n",
       "      <td>0</td>\n",
       "      <td>0</td>\n",
       "      <td>0</td>\n",
       "      <td>0</td>\n",
       "      <td>0</td>\n",
       "      <td>0</td>\n",
       "    </tr>\n",
       "    <tr>\n",
       "      <th>11</th>\n",
       "      <td>0</td>\n",
       "      <td>0</td>\n",
       "      <td>0</td>\n",
       "      <td>0</td>\n",
       "      <td>0</td>\n",
       "      <td>0</td>\n",
       "      <td>7</td>\n",
       "      <td>5</td>\n",
       "      <td>979</td>\n",
       "      <td>4</td>\n",
       "      <td>2</td>\n",
       "      <td>0</td>\n",
       "      <td>0</td>\n",
       "      <td>0</td>\n",
       "      <td>2</td>\n",
       "      <td>0</td>\n",
       "      <td>1</td>\n",
       "      <td>0</td>\n",
       "      <td>0</td>\n",
       "      <td>0</td>\n",
       "    </tr>\n",
       "    <tr>\n",
       "      <th>19</th>\n",
       "      <td>0</td>\n",
       "      <td>0</td>\n",
       "      <td>0</td>\n",
       "      <td>0</td>\n",
       "      <td>0</td>\n",
       "      <td>0</td>\n",
       "      <td>0</td>\n",
       "      <td>0</td>\n",
       "      <td>0</td>\n",
       "      <td>994</td>\n",
       "      <td>6</td>\n",
       "      <td>0</td>\n",
       "      <td>0</td>\n",
       "      <td>0</td>\n",
       "      <td>0</td>\n",
       "      <td>0</td>\n",
       "      <td>0</td>\n",
       "      <td>0</td>\n",
       "      <td>0</td>\n",
       "      <td>0</td>\n",
       "    </tr>\n",
       "    <tr>\n",
       "      <th>9</th>\n",
       "      <td>0</td>\n",
       "      <td>0</td>\n",
       "      <td>0</td>\n",
       "      <td>0</td>\n",
       "      <td>0</td>\n",
       "      <td>0</td>\n",
       "      <td>0</td>\n",
       "      <td>0</td>\n",
       "      <td>0</td>\n",
       "      <td>8</td>\n",
       "      <td>992</td>\n",
       "      <td>0</td>\n",
       "      <td>0</td>\n",
       "      <td>0</td>\n",
       "      <td>0</td>\n",
       "      <td>0</td>\n",
       "      <td>0</td>\n",
       "      <td>0</td>\n",
       "      <td>0</td>\n",
       "      <td>0</td>\n",
       "    </tr>\n",
       "    <tr>\n",
       "      <th>16</th>\n",
       "      <td>0</td>\n",
       "      <td>1</td>\n",
       "      <td>1</td>\n",
       "      <td>0</td>\n",
       "      <td>0</td>\n",
       "      <td>0</td>\n",
       "      <td>0</td>\n",
       "      <td>0</td>\n",
       "      <td>0</td>\n",
       "      <td>0</td>\n",
       "      <td>0</td>\n",
       "      <td>990</td>\n",
       "      <td>1</td>\n",
       "      <td>2</td>\n",
       "      <td>2</td>\n",
       "      <td>0</td>\n",
       "      <td>3</td>\n",
       "      <td>0</td>\n",
       "      <td>0</td>\n",
       "      <td>0</td>\n",
       "    </tr>\n",
       "    <tr>\n",
       "      <th>7</th>\n",
       "      <td>0</td>\n",
       "      <td>1</td>\n",
       "      <td>0</td>\n",
       "      <td>4</td>\n",
       "      <td>0</td>\n",
       "      <td>1</td>\n",
       "      <td>5</td>\n",
       "      <td>1</td>\n",
       "      <td>0</td>\n",
       "      <td>0</td>\n",
       "      <td>0</td>\n",
       "      <td>0</td>\n",
       "      <td>983</td>\n",
       "      <td>3</td>\n",
       "      <td>1</td>\n",
       "      <td>0</td>\n",
       "      <td>0</td>\n",
       "      <td>0</td>\n",
       "      <td>1</td>\n",
       "      <td>0</td>\n",
       "    </tr>\n",
       "    <tr>\n",
       "      <th>4</th>\n",
       "      <td>0</td>\n",
       "      <td>5</td>\n",
       "      <td>0</td>\n",
       "      <td>0</td>\n",
       "      <td>0</td>\n",
       "      <td>1</td>\n",
       "      <td>0</td>\n",
       "      <td>0</td>\n",
       "      <td>0</td>\n",
       "      <td>0</td>\n",
       "      <td>0</td>\n",
       "      <td>0</td>\n",
       "      <td>0</td>\n",
       "      <td>991</td>\n",
       "      <td>3</td>\n",
       "      <td>0</td>\n",
       "      <td>0</td>\n",
       "      <td>0</td>\n",
       "      <td>0</td>\n",
       "      <td>0</td>\n",
       "    </tr>\n",
       "    <tr>\n",
       "      <th>6</th>\n",
       "      <td>0</td>\n",
       "      <td>1</td>\n",
       "      <td>0</td>\n",
       "      <td>0</td>\n",
       "      <td>0</td>\n",
       "      <td>0</td>\n",
       "      <td>1</td>\n",
       "      <td>0</td>\n",
       "      <td>0</td>\n",
       "      <td>0</td>\n",
       "      <td>0</td>\n",
       "      <td>0</td>\n",
       "      <td>3</td>\n",
       "      <td>1</td>\n",
       "      <td>992</td>\n",
       "      <td>0</td>\n",
       "      <td>0</td>\n",
       "      <td>0</td>\n",
       "      <td>2</td>\n",
       "      <td>0</td>\n",
       "    </tr>\n",
       "    <tr>\n",
       "      <th>17</th>\n",
       "      <td>0</td>\n",
       "      <td>0</td>\n",
       "      <td>0</td>\n",
       "      <td>0</td>\n",
       "      <td>0</td>\n",
       "      <td>0</td>\n",
       "      <td>0</td>\n",
       "      <td>0</td>\n",
       "      <td>0</td>\n",
       "      <td>0</td>\n",
       "      <td>0</td>\n",
       "      <td>0</td>\n",
       "      <td>0</td>\n",
       "      <td>0</td>\n",
       "      <td>0</td>\n",
       "      <td>997</td>\n",
       "      <td>0</td>\n",
       "      <td>0</td>\n",
       "      <td>0</td>\n",
       "      <td>0</td>\n",
       "    </tr>\n",
       "    <tr>\n",
       "      <th>8</th>\n",
       "      <td>0</td>\n",
       "      <td>0</td>\n",
       "      <td>0</td>\n",
       "      <td>0</td>\n",
       "      <td>0</td>\n",
       "      <td>0</td>\n",
       "      <td>0</td>\n",
       "      <td>0</td>\n",
       "      <td>0</td>\n",
       "      <td>0</td>\n",
       "      <td>0</td>\n",
       "      <td>1</td>\n",
       "      <td>0</td>\n",
       "      <td>0</td>\n",
       "      <td>0</td>\n",
       "      <td>0</td>\n",
       "      <td>962</td>\n",
       "      <td>3</td>\n",
       "      <td>17</td>\n",
       "      <td>17</td>\n",
       "    </tr>\n",
       "    <tr>\n",
       "      <th>1</th>\n",
       "      <td>0</td>\n",
       "      <td>0</td>\n",
       "      <td>0</td>\n",
       "      <td>0</td>\n",
       "      <td>0</td>\n",
       "      <td>0</td>\n",
       "      <td>0</td>\n",
       "      <td>0</td>\n",
       "      <td>0</td>\n",
       "      <td>0</td>\n",
       "      <td>0</td>\n",
       "      <td>0</td>\n",
       "      <td>0</td>\n",
       "      <td>0</td>\n",
       "      <td>0</td>\n",
       "      <td>0</td>\n",
       "      <td>2</td>\n",
       "      <td>991</td>\n",
       "      <td>7</td>\n",
       "      <td>0</td>\n",
       "    </tr>\n",
       "    <tr>\n",
       "      <th>18</th>\n",
       "      <td>0</td>\n",
       "      <td>0</td>\n",
       "      <td>0</td>\n",
       "      <td>0</td>\n",
       "      <td>0</td>\n",
       "      <td>0</td>\n",
       "      <td>0</td>\n",
       "      <td>0</td>\n",
       "      <td>0</td>\n",
       "      <td>0</td>\n",
       "      <td>0</td>\n",
       "      <td>0</td>\n",
       "      <td>0</td>\n",
       "      <td>0</td>\n",
       "      <td>1</td>\n",
       "      <td>0</td>\n",
       "      <td>56</td>\n",
       "      <td>48</td>\n",
       "      <td>787</td>\n",
       "      <td>108</td>\n",
       "    </tr>\n",
       "    <tr>\n",
       "      <th>14</th>\n",
       "      <td>75</td>\n",
       "      <td>0</td>\n",
       "      <td>0</td>\n",
       "      <td>0</td>\n",
       "      <td>0</td>\n",
       "      <td>0</td>\n",
       "      <td>0</td>\n",
       "      <td>0</td>\n",
       "      <td>0</td>\n",
       "      <td>0</td>\n",
       "      <td>0</td>\n",
       "      <td>0</td>\n",
       "      <td>0</td>\n",
       "      <td>1</td>\n",
       "      <td>0</td>\n",
       "      <td>0</td>\n",
       "      <td>48</td>\n",
       "      <td>1</td>\n",
       "      <td>57</td>\n",
       "      <td>818</td>\n",
       "    </tr>\n",
       "  </tbody>\n",
       "</table>\n",
       "</div>"
      ],
      "text/plain": [
       "     13   3     10   0    12   15   2    5    11   19   9    16   7    4   \\\n",
       "13  798    0     0    0    0    0    0    0    0    0    0    1    0    0   \n",
       "3     0  961    10    9    3   14    1    0    0    0    0    0    0    1   \n",
       "10    0    0  1000    0    0    0    0    0    0    0    0    0    0    0   \n",
       "0     0    0     6  993    0    0    1    0    0    0    0    0    0    0   \n",
       "12    0    0     1   10  988    0    1    0    0    0    0    0    0    0   \n",
       "15    0   28     9   14    1  946    2    0    0    0    0    0    0    0   \n",
       "2     0    0     0    7    3    0  983    2    2    0    0    0    3    0   \n",
       "5     0    0     0    0    0    0    6  991    0    0    0    0    3    0   \n",
       "11    0    0     0    0    0    0    7    5  979    4    2    0    0    0   \n",
       "19    0    0     0    0    0    0    0    0    0  994    6    0    0    0   \n",
       "9     0    0     0    0    0    0    0    0    0    8  992    0    0    0   \n",
       "16    0    1     1    0    0    0    0    0    0    0    0  990    1    2   \n",
       "7     0    1     0    4    0    1    5    1    0    0    0    0  983    3   \n",
       "4     0    5     0    0    0    1    0    0    0    0    0    0    0  991   \n",
       "6     0    1     0    0    0    0    1    0    0    0    0    0    3    1   \n",
       "17    0    0     0    0    0    0    0    0    0    0    0    0    0    0   \n",
       "8     0    0     0    0    0    0    0    0    0    0    0    1    0    0   \n",
       "1     0    0     0    0    0    0    0    0    0    0    0    0    0    0   \n",
       "18    0    0     0    0    0    0    0    0    0    0    0    0    0    0   \n",
       "14   75    0     0    0    0    0    0    0    0    0    0    0    0    1   \n",
       "\n",
       "     6    17   8    1    18   14  \n",
       "13    0    0    0    0    0  201  \n",
       "3     1    0    0    0    0    0  \n",
       "10    0    0    0    0    0    0  \n",
       "0     0    0    0    0    0    0  \n",
       "12    0    0    0    0    0    0  \n",
       "15    0    0    0    0    0    0  \n",
       "2     0    0    0    0    0    0  \n",
       "5     0    0    0    0    0    0  \n",
       "11    2    0    1    0    0    0  \n",
       "19    0    0    0    0    0    0  \n",
       "9     0    0    0    0    0    0  \n",
       "16    2    0    3    0    0    0  \n",
       "7     1    0    0    0    1    0  \n",
       "4     3    0    0    0    0    0  \n",
       "6   992    0    0    0    2    0  \n",
       "17    0  997    0    0    0    0  \n",
       "8     0    0  962    3   17   17  \n",
       "1     0    0    2  991    7    0  \n",
       "18    1    0   56   48  787  108  \n",
       "14    0    0   48    1   57  818  "
      ]
     },
     "execution_count": 29,
     "metadata": {},
     "output_type": "execute_result"
    }
   ],
   "source": [
    "# Panel of all test set confusion matrices for binary encoded model\n",
    "pl = pandas.Panel(binaryCms)\n",
    "cm = pl.sum(axis=0) #Sum the confusion matrices to get one view of how well the classifiers perform\n",
    "cm"
   ]
  },
  {
   "cell_type": "markdown",
   "metadata": {},
   "source": [
    "1e.) Of all the topics, there appears to the most confusion over the atheism (Group 0) and misc relgion (Group 19) groupings, followed by the misc politics (Group 18) and misc relgion (Group 19) groupings.  This is caused by the overlap in vocabulary used across these domains, which is not captured within the top 400 common words used as the model features.  Additional features would be required to handle this, such as adding weights to infrequent words, or by giving stronger weights to group specific terms after analyzing and comparing terms in each group."
   ]
  },
  {
   "cell_type": "markdown",
   "metadata": {},
   "source": [
    "## 6.) Compare with Naive Bayes"
   ]
  },
  {
   "cell_type": "code",
   "execution_count": 30,
   "metadata": {
    "collapsed": false
   },
   "outputs": [
    {
     "name": "stdout",
     "output_type": "stream",
     "text": [
      "The accuracy score for using the top 100 words is 0.586\n",
      "The accuracy score for using the top 200 words is 0.745333333333\n",
      "The accuracy score for using the top 300 words is 0.822833333333\n",
      "The accuracy score for using the top 400 words is 0.9125\n",
      "The accuracy score for using the top 500 words is 0.913\n",
      "The accuracy score for using the top 600 words is 0.9125\n",
      "The accuracy score for using the top 700 words is 0.910833333333\n",
      "The accuracy score for using the top 800 words is 0.907333333333\n",
      "The accuracy score for using the top 900 words is 0.91\n",
      "The accuracy score for using the top 1000 words is 0.91\n"
     ]
    }
   ],
   "source": [
    "# Determine number of word features needed\n",
    "featTrainAccNb, featTestAccNb = tuneFeatSel(features, target, NAIVE_BAYES)"
   ]
  },
  {
   "cell_type": "code",
   "execution_count": 31,
   "metadata": {
    "collapsed": false
   },
   "outputs": [
    {
     "name": "stdout",
     "output_type": "stream",
     "text": [
      "The accuracy score for using hyperparameter = 0.000100 is 0.905833333333\n",
      "The accuracy score for using hyperparameter = 0.001000 is 0.907\n",
      "The accuracy score for using hyperparameter = 0.010000 is 0.908333333333\n",
      "The accuracy score for using hyperparameter = 0.100000 is 0.910166666667\n",
      "The accuracy score for using hyperparameter = 1.000000 is 0.909\n",
      "The accuracy score for using hyperparameter = 10.000000 is 0.906666666667\n",
      "The accuracy score for using hyperparameter = 100.000000 is 0.902333333333\n",
      "The accuracy score for using hyperparameter = 1000.000000 is 0.852\n",
      "The accuracy score for using hyperparameter = 10000.000000 is 0.804833333333\n"
     ]
    }
   ],
   "source": [
    "# Determine effect of adjusting hyperparameter alpha for NB model using binary encoding\n",
    "hypTrainAccNb, hypTestAccNb = tuneHyperPara(features[:,:k], target, NAIVE_BAYES)"
   ]
  },
  {
   "cell_type": "code",
   "execution_count": 32,
   "metadata": {
    "collapsed": false
   },
   "outputs": [
    {
     "name": "stdout",
     "output_type": "stream",
     "text": [
      "The accuracy score for using hyperparameter = 0.000100 is 0.694833333333\n",
      "The accuracy score for using hyperparameter = 0.001000 is 0.689\n",
      "The accuracy score for using hyperparameter = 0.010000 is 0.669333333333\n",
      "The accuracy score for using hyperparameter = 0.100000 is 0.574833333333\n",
      "The accuracy score for using hyperparameter = 1.000000 is 0.259833333333\n",
      "The accuracy score for using hyperparameter = 10.000000 is 0.0503333333333\n",
      "The accuracy score for using hyperparameter = 100.000000 is 0.0436666666667\n",
      "The accuracy score for using hyperparameter = 1000.000000 is 0.0436666666667\n",
      "The accuracy score for using hyperparameter = 10000.000000 is 0.0436666666667\n"
     ]
    }
   ],
   "source": [
    "# Determine effect of adjusting hyperparameter alpha for NB model using TF encoding (not normalized)\n",
    "hypTrainAccNbTf, hypTestAccNbTf = tuneHyperPara(featuresTf, targetTf, NAIVE_BAYES)"
   ]
  },
  {
   "cell_type": "code",
   "execution_count": 33,
   "metadata": {
    "collapsed": false
   },
   "outputs": [
    {
     "name": "stdout",
     "output_type": "stream",
     "text": [
      "The accuracy score for using hyperparameter = 0.000100 is 0.879333333333\n",
      "The accuracy score for using hyperparameter = 0.001000 is 0.878\n",
      "The accuracy score for using hyperparameter = 0.010000 is 0.877\n",
      "The accuracy score for using hyperparameter = 0.100000 is 0.873166666667\n",
      "The accuracy score for using hyperparameter = 1.000000 is 0.860166666667\n",
      "The accuracy score for using hyperparameter = 10.000000 is 0.828833333333\n",
      "The accuracy score for using hyperparameter = 100.000000 is 0.704666666667\n",
      "The accuracy score for using hyperparameter = 1000.000000 is 0.382166666667\n",
      "The accuracy score for using hyperparameter = 10000.000000 is 0.0763333333333\n"
     ]
    }
   ],
   "source": [
    "# Determine effect of adjusting hyperparameter alpha for NB model using TF encoding (normalized)\n",
    "hypTrainAccNbTfNorm, hypTestAccNbTfNorm = tuneHyperPara(normFeatures, targetTf, NAIVE_BAYES)"
   ]
  },
  {
   "cell_type": "code",
   "execution_count": 34,
   "metadata": {
    "collapsed": false
   },
   "outputs": [
    {
     "name": "stdout",
     "output_type": "stream",
     "text": [
      "The average of accuracy score for 10 stratified folds is 0.912837293647\n",
      "The std dev of accuracy score for 10 stratified folds is 0.00588751241526\n",
      "The std error of the mean accuracy score for 10 stratified folds is 0.00196250413842\n",
      "The 95 percent confidence interval range is (0.90839780085318611, 0.91727678644046051)\n"
     ]
    }
   ],
   "source": [
    "# k-fold cross validation with Naive Bayes, Binary encoding\n",
    "naiveBayesCms = kFoldCVTests(features[:,:k],target, 1, folds, ci, NAIVE_BAYES)"
   ]
  },
  {
   "cell_type": "code",
   "execution_count": 35,
   "metadata": {
    "collapsed": false
   },
   "outputs": [
    {
     "name": "stdout",
     "output_type": "stream",
     "text": [
      "The average of accuracy score for 10 stratified folds is 0.87628184092\n",
      "The std dev of accuracy score for 10 stratified folds is 0.0094334607114\n",
      "The std error of the mean accuracy score for 10 stratified folds is 0.0031444869038\n",
      "The 95 percent confidence interval range is (0.86916851734788703, 0.88339516449303346)\n"
     ]
    }
   ],
   "source": [
    "# k-fold cross validation with Naive Bayes, TF encoding(Not normalized)\n",
    "naiveBayesTfCms = kFoldCVTests(featuresTf,targetTf, 0.0001, folds, ci, NAIVE_BAYES)"
   ]
  },
  {
   "cell_type": "code",
   "execution_count": 36,
   "metadata": {
    "collapsed": false
   },
   "outputs": [
    {
     "name": "stdout",
     "output_type": "stream",
     "text": [
      "The average of accuracy score for 10 stratified folds is 0.877581990995\n",
      "The std dev of accuracy score for 10 stratified folds is 0.00645123818771\n",
      "The std error of the mean accuracy score for 10 stratified folds is 0.00215041272924\n",
      "The 95 percent confidence interval range is (0.87271741943720749, 0.88244656255378795)\n"
     ]
    }
   ],
   "source": [
    "# k-fold cross validation with Naive Bayes, TF encoding(Normalized)\n",
    "naiveBayesTfCms = kFoldCVTests(normFeatures,targetTf, 0.0001, folds, ci, NAIVE_BAYES)"
   ]
  },
  {
   "cell_type": "code",
   "execution_count": 37,
   "metadata": {
    "collapsed": false
   },
   "outputs": [
    {
     "data": {
      "text/html": [
       "<div>\n",
       "<table border=\"1\" class=\"dataframe\">\n",
       "  <thead>\n",
       "    <tr style=\"text-align: right;\">\n",
       "      <th></th>\n",
       "      <th>13</th>\n",
       "      <th>3</th>\n",
       "      <th>10</th>\n",
       "      <th>0</th>\n",
       "      <th>12</th>\n",
       "      <th>15</th>\n",
       "      <th>2</th>\n",
       "      <th>5</th>\n",
       "      <th>11</th>\n",
       "      <th>19</th>\n",
       "      <th>9</th>\n",
       "      <th>16</th>\n",
       "      <th>7</th>\n",
       "      <th>4</th>\n",
       "      <th>6</th>\n",
       "      <th>17</th>\n",
       "      <th>8</th>\n",
       "      <th>1</th>\n",
       "      <th>18</th>\n",
       "      <th>14</th>\n",
       "    </tr>\n",
       "  </thead>\n",
       "  <tbody>\n",
       "    <tr>\n",
       "      <th>13</th>\n",
       "      <td>845</td>\n",
       "      <td>1</td>\n",
       "      <td>0</td>\n",
       "      <td>0</td>\n",
       "      <td>0</td>\n",
       "      <td>1</td>\n",
       "      <td>2</td>\n",
       "      <td>2</td>\n",
       "      <td>0</td>\n",
       "      <td>0</td>\n",
       "      <td>0</td>\n",
       "      <td>1</td>\n",
       "      <td>1</td>\n",
       "      <td>3</td>\n",
       "      <td>1</td>\n",
       "      <td>2</td>\n",
       "      <td>0</td>\n",
       "      <td>5</td>\n",
       "      <td>1</td>\n",
       "      <td>135</td>\n",
       "    </tr>\n",
       "    <tr>\n",
       "      <th>3</th>\n",
       "      <td>0</td>\n",
       "      <td>913</td>\n",
       "      <td>12</td>\n",
       "      <td>17</td>\n",
       "      <td>8</td>\n",
       "      <td>27</td>\n",
       "      <td>7</td>\n",
       "      <td>1</td>\n",
       "      <td>0</td>\n",
       "      <td>0</td>\n",
       "      <td>0</td>\n",
       "      <td>7</td>\n",
       "      <td>1</td>\n",
       "      <td>3</td>\n",
       "      <td>4</td>\n",
       "      <td>0</td>\n",
       "      <td>0</td>\n",
       "      <td>0</td>\n",
       "      <td>0</td>\n",
       "      <td>0</td>\n",
       "    </tr>\n",
       "    <tr>\n",
       "      <th>10</th>\n",
       "      <td>0</td>\n",
       "      <td>0</td>\n",
       "      <td>989</td>\n",
       "      <td>4</td>\n",
       "      <td>0</td>\n",
       "      <td>3</td>\n",
       "      <td>0</td>\n",
       "      <td>0</td>\n",
       "      <td>0</td>\n",
       "      <td>0</td>\n",
       "      <td>0</td>\n",
       "      <td>2</td>\n",
       "      <td>0</td>\n",
       "      <td>1</td>\n",
       "      <td>0</td>\n",
       "      <td>0</td>\n",
       "      <td>0</td>\n",
       "      <td>0</td>\n",
       "      <td>1</td>\n",
       "      <td>0</td>\n",
       "    </tr>\n",
       "    <tr>\n",
       "      <th>0</th>\n",
       "      <td>0</td>\n",
       "      <td>2</td>\n",
       "      <td>3</td>\n",
       "      <td>991</td>\n",
       "      <td>1</td>\n",
       "      <td>0</td>\n",
       "      <td>2</td>\n",
       "      <td>0</td>\n",
       "      <td>0</td>\n",
       "      <td>0</td>\n",
       "      <td>0</td>\n",
       "      <td>0</td>\n",
       "      <td>1</td>\n",
       "      <td>0</td>\n",
       "      <td>0</td>\n",
       "      <td>0</td>\n",
       "      <td>0</td>\n",
       "      <td>0</td>\n",
       "      <td>0</td>\n",
       "      <td>0</td>\n",
       "    </tr>\n",
       "    <tr>\n",
       "      <th>12</th>\n",
       "      <td>0</td>\n",
       "      <td>5</td>\n",
       "      <td>0</td>\n",
       "      <td>15</td>\n",
       "      <td>975</td>\n",
       "      <td>0</td>\n",
       "      <td>4</td>\n",
       "      <td>0</td>\n",
       "      <td>0</td>\n",
       "      <td>0</td>\n",
       "      <td>0</td>\n",
       "      <td>1</td>\n",
       "      <td>0</td>\n",
       "      <td>0</td>\n",
       "      <td>0</td>\n",
       "      <td>0</td>\n",
       "      <td>0</td>\n",
       "      <td>0</td>\n",
       "      <td>0</td>\n",
       "      <td>0</td>\n",
       "    </tr>\n",
       "    <tr>\n",
       "      <th>15</th>\n",
       "      <td>0</td>\n",
       "      <td>36</td>\n",
       "      <td>27</td>\n",
       "      <td>16</td>\n",
       "      <td>2</td>\n",
       "      <td>902</td>\n",
       "      <td>6</td>\n",
       "      <td>0</td>\n",
       "      <td>0</td>\n",
       "      <td>0</td>\n",
       "      <td>1</td>\n",
       "      <td>8</td>\n",
       "      <td>1</td>\n",
       "      <td>0</td>\n",
       "      <td>0</td>\n",
       "      <td>0</td>\n",
       "      <td>0</td>\n",
       "      <td>0</td>\n",
       "      <td>1</td>\n",
       "      <td>0</td>\n",
       "    </tr>\n",
       "    <tr>\n",
       "      <th>2</th>\n",
       "      <td>1</td>\n",
       "      <td>1</td>\n",
       "      <td>3</td>\n",
       "      <td>8</td>\n",
       "      <td>6</td>\n",
       "      <td>0</td>\n",
       "      <td>952</td>\n",
       "      <td>10</td>\n",
       "      <td>1</td>\n",
       "      <td>0</td>\n",
       "      <td>0</td>\n",
       "      <td>1</td>\n",
       "      <td>6</td>\n",
       "      <td>3</td>\n",
       "      <td>3</td>\n",
       "      <td>0</td>\n",
       "      <td>1</td>\n",
       "      <td>0</td>\n",
       "      <td>4</td>\n",
       "      <td>0</td>\n",
       "    </tr>\n",
       "    <tr>\n",
       "      <th>5</th>\n",
       "      <td>0</td>\n",
       "      <td>0</td>\n",
       "      <td>0</td>\n",
       "      <td>0</td>\n",
       "      <td>0</td>\n",
       "      <td>1</td>\n",
       "      <td>22</td>\n",
       "      <td>964</td>\n",
       "      <td>4</td>\n",
       "      <td>0</td>\n",
       "      <td>0</td>\n",
       "      <td>0</td>\n",
       "      <td>7</td>\n",
       "      <td>0</td>\n",
       "      <td>0</td>\n",
       "      <td>0</td>\n",
       "      <td>1</td>\n",
       "      <td>0</td>\n",
       "      <td>1</td>\n",
       "      <td>0</td>\n",
       "    </tr>\n",
       "    <tr>\n",
       "      <th>11</th>\n",
       "      <td>0</td>\n",
       "      <td>1</td>\n",
       "      <td>0</td>\n",
       "      <td>0</td>\n",
       "      <td>0</td>\n",
       "      <td>0</td>\n",
       "      <td>49</td>\n",
       "      <td>87</td>\n",
       "      <td>779</td>\n",
       "      <td>33</td>\n",
       "      <td>19</td>\n",
       "      <td>0</td>\n",
       "      <td>3</td>\n",
       "      <td>9</td>\n",
       "      <td>11</td>\n",
       "      <td>0</td>\n",
       "      <td>9</td>\n",
       "      <td>0</td>\n",
       "      <td>0</td>\n",
       "      <td>0</td>\n",
       "    </tr>\n",
       "    <tr>\n",
       "      <th>19</th>\n",
       "      <td>0</td>\n",
       "      <td>1</td>\n",
       "      <td>0</td>\n",
       "      <td>0</td>\n",
       "      <td>0</td>\n",
       "      <td>0</td>\n",
       "      <td>1</td>\n",
       "      <td>0</td>\n",
       "      <td>0</td>\n",
       "      <td>943</td>\n",
       "      <td>55</td>\n",
       "      <td>0</td>\n",
       "      <td>0</td>\n",
       "      <td>0</td>\n",
       "      <td>0</td>\n",
       "      <td>0</td>\n",
       "      <td>0</td>\n",
       "      <td>0</td>\n",
       "      <td>0</td>\n",
       "      <td>0</td>\n",
       "    </tr>\n",
       "    <tr>\n",
       "      <th>9</th>\n",
       "      <td>0</td>\n",
       "      <td>0</td>\n",
       "      <td>0</td>\n",
       "      <td>0</td>\n",
       "      <td>0</td>\n",
       "      <td>0</td>\n",
       "      <td>1</td>\n",
       "      <td>0</td>\n",
       "      <td>0</td>\n",
       "      <td>7</td>\n",
       "      <td>991</td>\n",
       "      <td>0</td>\n",
       "      <td>0</td>\n",
       "      <td>0</td>\n",
       "      <td>1</td>\n",
       "      <td>0</td>\n",
       "      <td>0</td>\n",
       "      <td>0</td>\n",
       "      <td>0</td>\n",
       "      <td>0</td>\n",
       "    </tr>\n",
       "    <tr>\n",
       "      <th>16</th>\n",
       "      <td>0</td>\n",
       "      <td>5</td>\n",
       "      <td>1</td>\n",
       "      <td>0</td>\n",
       "      <td>0</td>\n",
       "      <td>0</td>\n",
       "      <td>3</td>\n",
       "      <td>0</td>\n",
       "      <td>0</td>\n",
       "      <td>0</td>\n",
       "      <td>0</td>\n",
       "      <td>985</td>\n",
       "      <td>3</td>\n",
       "      <td>0</td>\n",
       "      <td>0</td>\n",
       "      <td>0</td>\n",
       "      <td>1</td>\n",
       "      <td>0</td>\n",
       "      <td>2</td>\n",
       "      <td>0</td>\n",
       "    </tr>\n",
       "    <tr>\n",
       "      <th>7</th>\n",
       "      <td>0</td>\n",
       "      <td>3</td>\n",
       "      <td>0</td>\n",
       "      <td>2</td>\n",
       "      <td>0</td>\n",
       "      <td>1</td>\n",
       "      <td>6</td>\n",
       "      <td>3</td>\n",
       "      <td>0</td>\n",
       "      <td>0</td>\n",
       "      <td>0</td>\n",
       "      <td>9</td>\n",
       "      <td>959</td>\n",
       "      <td>4</td>\n",
       "      <td>13</td>\n",
       "      <td>0</td>\n",
       "      <td>0</td>\n",
       "      <td>0</td>\n",
       "      <td>0</td>\n",
       "      <td>0</td>\n",
       "    </tr>\n",
       "    <tr>\n",
       "      <th>4</th>\n",
       "      <td>1</td>\n",
       "      <td>16</td>\n",
       "      <td>0</td>\n",
       "      <td>0</td>\n",
       "      <td>0</td>\n",
       "      <td>0</td>\n",
       "      <td>4</td>\n",
       "      <td>0</td>\n",
       "      <td>0</td>\n",
       "      <td>0</td>\n",
       "      <td>0</td>\n",
       "      <td>5</td>\n",
       "      <td>2</td>\n",
       "      <td>964</td>\n",
       "      <td>7</td>\n",
       "      <td>0</td>\n",
       "      <td>0</td>\n",
       "      <td>0</td>\n",
       "      <td>1</td>\n",
       "      <td>0</td>\n",
       "    </tr>\n",
       "    <tr>\n",
       "      <th>6</th>\n",
       "      <td>0</td>\n",
       "      <td>7</td>\n",
       "      <td>0</td>\n",
       "      <td>0</td>\n",
       "      <td>0</td>\n",
       "      <td>0</td>\n",
       "      <td>9</td>\n",
       "      <td>0</td>\n",
       "      <td>0</td>\n",
       "      <td>0</td>\n",
       "      <td>0</td>\n",
       "      <td>2</td>\n",
       "      <td>23</td>\n",
       "      <td>6</td>\n",
       "      <td>949</td>\n",
       "      <td>0</td>\n",
       "      <td>0</td>\n",
       "      <td>0</td>\n",
       "      <td>3</td>\n",
       "      <td>1</td>\n",
       "    </tr>\n",
       "    <tr>\n",
       "      <th>17</th>\n",
       "      <td>1</td>\n",
       "      <td>0</td>\n",
       "      <td>0</td>\n",
       "      <td>0</td>\n",
       "      <td>0</td>\n",
       "      <td>0</td>\n",
       "      <td>0</td>\n",
       "      <td>0</td>\n",
       "      <td>0</td>\n",
       "      <td>0</td>\n",
       "      <td>0</td>\n",
       "      <td>0</td>\n",
       "      <td>0</td>\n",
       "      <td>0</td>\n",
       "      <td>0</td>\n",
       "      <td>993</td>\n",
       "      <td>0</td>\n",
       "      <td>3</td>\n",
       "      <td>0</td>\n",
       "      <td>0</td>\n",
       "    </tr>\n",
       "    <tr>\n",
       "      <th>8</th>\n",
       "      <td>0</td>\n",
       "      <td>0</td>\n",
       "      <td>0</td>\n",
       "      <td>0</td>\n",
       "      <td>0</td>\n",
       "      <td>0</td>\n",
       "      <td>1</td>\n",
       "      <td>0</td>\n",
       "      <td>0</td>\n",
       "      <td>0</td>\n",
       "      <td>0</td>\n",
       "      <td>6</td>\n",
       "      <td>0</td>\n",
       "      <td>0</td>\n",
       "      <td>0</td>\n",
       "      <td>0</td>\n",
       "      <td>905</td>\n",
       "      <td>16</td>\n",
       "      <td>69</td>\n",
       "      <td>3</td>\n",
       "    </tr>\n",
       "    <tr>\n",
       "      <th>1</th>\n",
       "      <td>0</td>\n",
       "      <td>0</td>\n",
       "      <td>0</td>\n",
       "      <td>0</td>\n",
       "      <td>0</td>\n",
       "      <td>0</td>\n",
       "      <td>0</td>\n",
       "      <td>0</td>\n",
       "      <td>0</td>\n",
       "      <td>0</td>\n",
       "      <td>0</td>\n",
       "      <td>0</td>\n",
       "      <td>0</td>\n",
       "      <td>0</td>\n",
       "      <td>0</td>\n",
       "      <td>0</td>\n",
       "      <td>24</td>\n",
       "      <td>933</td>\n",
       "      <td>43</td>\n",
       "      <td>0</td>\n",
       "    </tr>\n",
       "    <tr>\n",
       "      <th>18</th>\n",
       "      <td>0</td>\n",
       "      <td>0</td>\n",
       "      <td>0</td>\n",
       "      <td>0</td>\n",
       "      <td>0</td>\n",
       "      <td>0</td>\n",
       "      <td>1</td>\n",
       "      <td>0</td>\n",
       "      <td>0</td>\n",
       "      <td>0</td>\n",
       "      <td>0</td>\n",
       "      <td>1</td>\n",
       "      <td>0</td>\n",
       "      <td>0</td>\n",
       "      <td>3</td>\n",
       "      <td>0</td>\n",
       "      <td>124</td>\n",
       "      <td>56</td>\n",
       "      <td>704</td>\n",
       "      <td>111</td>\n",
       "    </tr>\n",
       "    <tr>\n",
       "      <th>14</th>\n",
       "      <td>205</td>\n",
       "      <td>0</td>\n",
       "      <td>0</td>\n",
       "      <td>0</td>\n",
       "      <td>0</td>\n",
       "      <td>0</td>\n",
       "      <td>3</td>\n",
       "      <td>0</td>\n",
       "      <td>0</td>\n",
       "      <td>0</td>\n",
       "      <td>0</td>\n",
       "      <td>0</td>\n",
       "      <td>0</td>\n",
       "      <td>0</td>\n",
       "      <td>0</td>\n",
       "      <td>4</td>\n",
       "      <td>50</td>\n",
       "      <td>4</td>\n",
       "      <td>116</td>\n",
       "      <td>618</td>\n",
       "    </tr>\n",
       "  </tbody>\n",
       "</table>\n",
       "</div>"
      ],
      "text/plain": [
       "     13   3    10   0    12   15   2    5    11   19   9    16   7    4    6   \\\n",
       "13  845    1    0    0    0    1    2    2    0    0    0    1    1    3    1   \n",
       "3     0  913   12   17    8   27    7    1    0    0    0    7    1    3    4   \n",
       "10    0    0  989    4    0    3    0    0    0    0    0    2    0    1    0   \n",
       "0     0    2    3  991    1    0    2    0    0    0    0    0    1    0    0   \n",
       "12    0    5    0   15  975    0    4    0    0    0    0    1    0    0    0   \n",
       "15    0   36   27   16    2  902    6    0    0    0    1    8    1    0    0   \n",
       "2     1    1    3    8    6    0  952   10    1    0    0    1    6    3    3   \n",
       "5     0    0    0    0    0    1   22  964    4    0    0    0    7    0    0   \n",
       "11    0    1    0    0    0    0   49   87  779   33   19    0    3    9   11   \n",
       "19    0    1    0    0    0    0    1    0    0  943   55    0    0    0    0   \n",
       "9     0    0    0    0    0    0    1    0    0    7  991    0    0    0    1   \n",
       "16    0    5    1    0    0    0    3    0    0    0    0  985    3    0    0   \n",
       "7     0    3    0    2    0    1    6    3    0    0    0    9  959    4   13   \n",
       "4     1   16    0    0    0    0    4    0    0    0    0    5    2  964    7   \n",
       "6     0    7    0    0    0    0    9    0    0    0    0    2   23    6  949   \n",
       "17    1    0    0    0    0    0    0    0    0    0    0    0    0    0    0   \n",
       "8     0    0    0    0    0    0    1    0    0    0    0    6    0    0    0   \n",
       "1     0    0    0    0    0    0    0    0    0    0    0    0    0    0    0   \n",
       "18    0    0    0    0    0    0    1    0    0    0    0    1    0    0    3   \n",
       "14  205    0    0    0    0    0    3    0    0    0    0    0    0    0    0   \n",
       "\n",
       "     17   8    1    18   14  \n",
       "13    2    0    5    1  135  \n",
       "3     0    0    0    0    0  \n",
       "10    0    0    0    1    0  \n",
       "0     0    0    0    0    0  \n",
       "12    0    0    0    0    0  \n",
       "15    0    0    0    1    0  \n",
       "2     0    1    0    4    0  \n",
       "5     0    1    0    1    0  \n",
       "11    0    9    0    0    0  \n",
       "19    0    0    0    0    0  \n",
       "9     0    0    0    0    0  \n",
       "16    0    1    0    2    0  \n",
       "7     0    0    0    0    0  \n",
       "4     0    0    0    1    0  \n",
       "6     0    0    0    3    1  \n",
       "17  993    0    3    0    0  \n",
       "8     0  905   16   69    3  \n",
       "1     0   24  933   43    0  \n",
       "18    0  124   56  704  111  \n",
       "14    4   50    4  116  618  "
      ]
     },
     "execution_count": 37,
     "metadata": {},
     "output_type": "execute_result"
    }
   ],
   "source": [
    "# Panel of all test set confusion matrices for binary encoded model as it had the best performance\n",
    "pl = pandas.Panel(naiveBayesCms)\n",
    "cm = pl.sum(axis=0) #Sum the confusion matrices to get one view of how well the classifiers perform\n",
    "cm"
   ]
  },
  {
   "cell_type": "markdown",
   "metadata": {},
   "source": [
    "6a.) Using the binary encoding, the Naive Bayes classifiers sees worse performance compared to the logistic regression models, but it is significantly faster in terms of speed. Naive Bayes is a simpler classification method which calculates a probability, while the logistic regression uses a threshold function to maps input variables to boolean outputs.  The former is less accurate as it assumes that features are independant, which is not completly true.  However, it is a close enough approximation that, given training data which accounts for this bias, can still perform well."
   ]
  },
  {
   "cell_type": "markdown",
   "metadata": {},
   "source": [
    "## MIE1513 - Binary Logistic Regression"
   ]
  },
  {
   "cell_type": "code",
   "execution_count": 38,
   "metadata": {
    "collapsed": true
   },
   "outputs": [],
   "source": [
    "# Convert target values from multi-regression (ie. multiple classes) to binary label scheme\n",
    "# Create function to help convert encodings of the targets\n",
    "def multiTargetToBinary (val):\n",
    "    # Performing classification on Group 14 - sci.space\n",
    "    if val == 14:\n",
    "      return 1\n",
    "    return 0"
   ]
  },
  {
   "cell_type": "code",
   "execution_count": 39,
   "metadata": {
    "collapsed": true
   },
   "outputs": [],
   "source": [
    "binaryTarget = []\n",
    "for val in target:\n",
    "    binaryTarget.append(multiTargetToBinary(val))\n",
    "binaryTarget = np.array(binaryTarget)"
   ]
  },
  {
   "cell_type": "code",
   "execution_count": 40,
   "metadata": {
    "collapsed": false
   },
   "outputs": [
    {
     "name": "stdout",
     "output_type": "stream",
     "text": [
      "The accuracy score for using the top 100 words is 0.953166666667\n",
      "The accuracy score for using the top 200 words is 0.996833333333\n",
      "The accuracy score for using the top 300 words is 0.997166666667\n",
      "The accuracy score for using the top 400 words is 0.999166666667\n",
      "The accuracy score for using the top 500 words is 0.998833333333\n",
      "The accuracy score for using the top 600 words is 0.998666666667\n",
      "The accuracy score for using the top 700 words is 0.998833333333\n",
      "The accuracy score for using the top 800 words is 0.998833333333\n",
      "The accuracy score for using the top 900 words is 0.999333333333\n",
      "The accuracy score for using the top 1000 words is 0.9995\n"
     ]
    }
   ],
   "source": [
    "# Determine number of words to use\n",
    "featTrainAccBinary, featTestAccBinary = tuneFeatSel(features, binaryTarget)"
   ]
  },
  {
   "cell_type": "code",
   "execution_count": 41,
   "metadata": {
    "collapsed": false
   },
   "outputs": [
    {
     "data": {
      "image/png": "[encoded data removed]",
      "text/plain": [
       "<matplotlib.figure.Figure at 0x7f0c1c149588>"
      ]
     },
     "metadata": {},
     "output_type": "display_data"
    }
   ],
   "source": [
    "# plot the accuracy scores for each value of k\n",
    "ax = plt.subplot(111)\n",
    "ax.plot(numFeatures, featTrainAccBinary, c='b')\n",
    "ax.plot(numFeatures, featTestAccBinary, c='r')\n",
    "plt.xticks(numFeatures)\n",
    "plt.title(\"Top K Words\")\n",
    "ax.set_ylabel('Score accuracy')\n",
    "ax.set_xlabel('K (Number of Words)')\n",
    "plt.show() "
   ]
  },
  {
   "cell_type": "markdown",
   "metadata": {},
   "source": [
    "2.1) The two 200 common words are used as features.  This is significantly lower than the multiclass model as the classification requirements in this case are much simpler - instead of identifying among 20 classes, we only need to determine of a document belongs in one specific class or not (sci.space)."
   ]
  },
  {
   "cell_type": "markdown",
   "metadata": {},
   "source": [
    "2.2) See answer in Multi-class regression for automated way to select k features."
   ]
  },
  {
   "cell_type": "markdown",
   "metadata": {},
   "source": [
    "2.3) There is a significant increase in model performance until the word count reaches 200.  After this point, the performance plateaus."
   ]
  },
  {
   "cell_type": "code",
   "execution_count": 42,
   "metadata": {
    "collapsed": false
   },
   "outputs": [
    {
     "name": "stdout",
     "output_type": "stream",
     "text": [
      "The accuracy score for using hyperparameter = 0.000100 is 0.954\n",
      "The accuracy score for using hyperparameter = 0.001000 is 0.954\n",
      "The accuracy score for using hyperparameter = 0.010000 is 0.9885\n",
      "The accuracy score for using hyperparameter = 0.100000 is 0.996666666667\n",
      "The accuracy score for using hyperparameter = 1.000000 is 0.996833333333\n",
      "The accuracy score for using hyperparameter = 10.000000 is 0.996333333333\n",
      "The accuracy score for using hyperparameter = 100.000000 is 0.996333333333\n",
      "The accuracy score for using hyperparameter = 1000.000000 is 0.995833333333\n",
      "The accuracy score for using hyperparameter = 10000.000000 is 0.995666666667\n"
     ]
    }
   ],
   "source": [
    "# Determine effect of adjusting hyperparameter c for Binary Logistic Regression model using binary encoding\n",
    "k = 200\n",
    "hypTrainAccBinary, hypTestAccBinary = tuneHyperPara(features[:,:k], binaryTarget)"
   ]
  },
  {
   "cell_type": "code",
   "execution_count": 43,
   "metadata": {
    "collapsed": false
   },
   "outputs": [
    {
     "data": {
      "image/png": "[encoded data removed]",
      "text/plain": [
       "<matplotlib.figure.Figure at 0x7f0bfe65d160>"
      ]
     },
     "metadata": {},
     "output_type": "display_data"
    }
   ],
   "source": [
    "# plot the accuracy scores for each value of c\n",
    "ax2 = plt.subplot(111)\n",
    "ax2.plot(parameterList, hypTrainAccBinary, c='b')\n",
    "ax2.plot(parameterList, hypTestAccBinary, c='r')\n",
    "plt.xticks(parameterList)\n",
    "plt.title(\"Hyperparameter Tuning\")\n",
    "ax2.set_ylabel('Score accuracy')\n",
    "ax2.set_xlabel('C (Logistic Regression Parameter)')\n",
    "ax2.set_xscale('log')\n",
    "plt.show() "
   ]
  },
  {
   "cell_type": "markdown",
   "metadata": {},
   "source": [
    "3.1) Performance stays constant until after c=0.001, at which point, it rapidly increases until it starts to plateau at c=0.1"
   ]
  },
  {
   "cell_type": "markdown",
   "metadata": {},
   "source": [
    "4.1) See answer in Multi-class regression for improved performance with increase in training data volune"
   ]
  },
  {
   "cell_type": "markdown",
   "metadata": {},
   "source": [
    "5.1) The vector representations are the same as the multi-class regression.  The only difference is the target labels, which were converted from a 20-label solution space to a binary space."
   ]
  },
  {
   "cell_type": "code",
   "execution_count": 44,
   "metadata": {
    "collapsed": false
   },
   "outputs": [
    {
     "name": "stdout",
     "output_type": "stream",
     "text": [
      "The accuracy score for trial 0 is 0.9955\n",
      "The accuracy score for trial 1 is 0.9985\n",
      "The accuracy score for trial 2 is 0.986\n",
      "The accuracy score for trial 3 is 0.9995\n",
      "The accuracy score for trial 4 is 0.989\n",
      "The accuracy score for trial 5 is 1.0\n",
      "The accuracy score for trial 6 is 0.9985\n",
      "The accuracy score for trial 7 is 0.99899949975\n",
      "The accuracy score for trial 8 is 0.999499749875\n",
      "The accuracy score for trial 9 is 0.99899949975\n",
      "The average of accuracy score for 10 stratified folds is 0.996449874937\n",
      "The std dev of accuracy score for 10 stratified folds is 0.00467138493482\n",
      "The std error of the mean accuracy score for 10 stratified folds is 0.00155712831161\n",
      "The 95 percent confidence interval range is (0.99292740597406204, 0.99997234390087542)\n"
     ]
    }
   ],
   "source": [
    "# k-folds cv, binary encoding\n",
    "binaryCms = kFoldCVTests(features[:,:k],binaryTarget, 0.1, folds, ci, labels = [0,1], printTrialScore = True)"
   ]
  },
  {
   "cell_type": "markdown",
   "metadata": {},
   "source": [
    "##### TF Encoding"
   ]
  },
  {
   "cell_type": "code",
   "execution_count": 45,
   "metadata": {
    "collapsed": false
   },
   "outputs": [
    {
     "name": "stdout",
     "output_type": "stream",
     "text": [
      "The accuracy score for using hyperparameter = 0.000100 is 0.955833333333\n",
      "The accuracy score for using hyperparameter = 0.001000 is 0.955833333333\n",
      "The accuracy score for using hyperparameter = 0.010000 is 0.955833333333\n",
      "The accuracy score for using hyperparameter = 0.100000 is 0.955833333333\n",
      "The accuracy score for using hyperparameter = 1.000000 is 0.955833333333\n",
      "The accuracy score for using hyperparameter = 10.000000 is 0.956\n",
      "The accuracy score for using hyperparameter = 100.000000 is 0.970833333333\n",
      "The accuracy score for using hyperparameter = 1000.000000 is 0.988333333333\n",
      "The accuracy score for using hyperparameter = 10000.000000 is 0.994666666667\n"
     ]
    }
   ],
   "source": [
    "# Determine effect of adjusting hyperparameter c for Binary Logistic Regression model using tf encoding (no normalizing)\n",
    "hypTrainAccBinaryTf, hypTestAccBinaryTf = tuneHyperPara(featuresTf[:,:k], binaryTarget)"
   ]
  },
  {
   "cell_type": "code",
   "execution_count": 46,
   "metadata": {
    "collapsed": false
   },
   "outputs": [
    {
     "name": "stdout",
     "output_type": "stream",
     "text": [
      "The accuracy score for using hyperparameter = 0.000100 is 0.947833333333\n",
      "The accuracy score for using hyperparameter = 0.001000 is 0.947833333333\n",
      "The accuracy score for using hyperparameter = 0.010000 is 0.947833333333\n",
      "The accuracy score for using hyperparameter = 0.100000 is 0.9565\n",
      "The accuracy score for using hyperparameter = 1.000000 is 0.980333333333\n",
      "The accuracy score for using hyperparameter = 10.000000 is 0.992\n",
      "The accuracy score for using hyperparameter = 100.000000 is 0.995\n",
      "The accuracy score for using hyperparameter = 1000.000000 is 0.994666666667\n",
      "The accuracy score for using hyperparameter = 10000.000000 is 0.993833333333\n"
     ]
    }
   ],
   "source": [
    "# Determine effect of adjusting hyperparameter C for TF model (normalized vectors)\n",
    "hypTrainAccBinaryTfNorm, hypTestAccBinaryTfNorm = tuneHyperPara(normFeatures[:,:k], binaryTarget)"
   ]
  },
  {
   "cell_type": "code",
   "execution_count": 47,
   "metadata": {
    "collapsed": false
   },
   "outputs": [
    {
     "name": "stdout",
     "output_type": "stream",
     "text": [
      "The average of accuracy score for 10 stratified folds is 0.990849124562\n",
      "The std dev of accuracy score for 10 stratified folds is 0.00816989055602\n",
      "The std error of the mean accuracy score for 10 stratified folds is 0.00272329685201\n",
      "The 95 percent confidence interval range is (0.98468859908224071, 0.99700965004232134)\n"
     ]
    }
   ],
   "source": [
    "# k-fold cv, tf encoding (not normalized)\n",
    "binaryTfCms = kFoldCVTests(featuresTf[:,:k],binaryTarget, 10000, folds, ci, labels = [0,1])"
   ]
  },
  {
   "cell_type": "code",
   "execution_count": 48,
   "metadata": {
    "collapsed": false
   },
   "outputs": [
    {
     "name": "stdout",
     "output_type": "stream",
     "text": [
      "The average of accuracy score for 10 stratified folds is 0.99099929965\n",
      "The std dev of accuracy score for 10 stratified folds is 0.00930025530416\n",
      "The std error of the mean accuracy score for 10 stratified folds is 0.00310008510139\n",
      "The 95 percent confidence interval range is (0.98398641993261715, 0.99801217936703246)\n"
     ]
    }
   ],
   "source": [
    "# k-fold cv, tf encoding (normalized)\n",
    "binaryTfCms = kFoldCVTests(normFeatures[:,:k],binaryTarget, 100, folds, ci, labels = [0,1])"
   ]
  },
  {
   "cell_type": "markdown",
   "metadata": {},
   "source": [
    "5b.) Similar to the multi-class model, the binary encoded features performed better than the term frequency ones.  Again, with a simpler classification need, the detail required in the features to correctly identify the classes is significantly reduced.  Overall, TF encoding blur the lines between groups."
   ]
  },
  {
   "cell_type": "code",
   "execution_count": 49,
   "metadata": {
    "collapsed": false
   },
   "outputs": [
    {
     "name": "stdout",
     "output_type": "stream",
     "text": [
      "The accuracy score for using the top 100 words is 0.9465\n",
      "The accuracy score for using the top 200 words is 0.980333333333\n",
      "The accuracy score for using the top 300 words is 0.976\n",
      "The accuracy score for using the top 400 words is 0.991666666667\n",
      "The accuracy score for using the top 500 words is 0.989666666667\n",
      "The accuracy score for using the top 600 words is 0.989833333333\n",
      "The accuracy score for using the top 700 words is 0.988166666667\n",
      "The accuracy score for using the top 800 words is 0.989\n",
      "The accuracy score for using the top 900 words is 0.989666666667\n",
      "The accuracy score for using the top 1000 words is 0.99\n"
     ]
    }
   ],
   "source": [
    "# Compare with Naive Bayes\n",
    "featTrainAccBinaryBn, featTestAccBinaryNb = tuneFeatSel(features, binaryTarget, NAIVE_BAYES)"
   ]
  },
  {
   "cell_type": "code",
   "execution_count": 50,
   "metadata": {
    "collapsed": false
   },
   "outputs": [
    {
     "name": "stdout",
     "output_type": "stream",
     "text": [
      "The accuracy score for using hyperparameter = 0.000100 is 0.994\n",
      "The accuracy score for using hyperparameter = 0.001000 is 0.994\n",
      "The accuracy score for using hyperparameter = 0.010000 is 0.994\n",
      "The accuracy score for using hyperparameter = 0.100000 is 0.994166666667\n",
      "The accuracy score for using hyperparameter = 1.000000 is 0.9935\n",
      "The accuracy score for using hyperparameter = 10.000000 is 0.9885\n",
      "The accuracy score for using hyperparameter = 100.000000 is 0.9445\n",
      "The accuracy score for using hyperparameter = 1000.000000 is 0.947166666667\n",
      "The accuracy score for using hyperparameter = 10000.000000 is 0.949\n"
     ]
    }
   ],
   "source": [
    "k = 400\n",
    "# Determine effect of adjusting hyperparameter alpha for NB model using binary encoding\n",
    "hypTrainAccBinaryNb, hypTestAccBinaryNb = tuneHyperPara(features[:,:k], binaryTarget, NAIVE_BAYES)"
   ]
  },
  {
   "cell_type": "code",
   "execution_count": 51,
   "metadata": {
    "collapsed": false
   },
   "outputs": [
    {
     "name": "stdout",
     "output_type": "stream",
     "text": [
      "The average of accuracy score for 10 stratified folds is 0.967099074537\n",
      "The std dev of accuracy score for 10 stratified folds is 0.0648378071637\n",
      "The std error of the mean accuracy score for 10 stratified folds is 0.0216126023879\n",
      "The 95 percent confidence interval range is (0.91820797124001663, 1.0159901778345208)\n"
     ]
    }
   ],
   "source": [
    "# k-fold cross validation of Naive Bayes with Binary encoding\n",
    "naiveBayesBinaryCms = kFoldCVTests(features[:,:k],binaryTarget, 0.0001, folds, ci, NAIVE_BAYES, labels = [0,1])"
   ]
  },
  {
   "cell_type": "markdown",
   "metadata": {},
   "source": [
    "6.a) Similar to the multi-classifier, the Naive Bayes performs worse compared to the logistic regression model.  This is due to the error in calculating the classification probabilities where each feature is assumed to be independant."
   ]
  },
  {
   "cell_type": "markdown",
   "metadata": {},
   "source": [
    "1a.) The chosen settings are: Binary encoding of the top 200 common words as features, C = 0.1 and use of all training data."
   ]
  },
  {
   "cell_type": "markdown",
   "metadata": {},
   "source": [
    "1b.) See above for all trial runs, average score, and 95% confidence interval"
   ]
  },
  {
   "cell_type": "markdown",
   "metadata": {},
   "source": [
    "1c.) See answer for multi-classification example."
   ]
  },
  {
   "cell_type": "markdown",
   "metadata": {},
   "source": [
    "1d.) See answer for multi-classification example."
   ]
  },
  {
   "cell_type": "code",
   "execution_count": 52,
   "metadata": {
    "collapsed": false
   },
   "outputs": [
    {
     "data": {
      "text/html": [
       "<div>\n",
       "<table border=\"1\" class=\"dataframe\">\n",
       "  <thead>\n",
       "    <tr style=\"text-align: right;\">\n",
       "      <th></th>\n",
       "      <th>0</th>\n",
       "      <th>1</th>\n",
       "    </tr>\n",
       "  </thead>\n",
       "  <tbody>\n",
       "    <tr>\n",
       "      <th>0</th>\n",
       "      <td>18937</td>\n",
       "      <td>60</td>\n",
       "    </tr>\n",
       "    <tr>\n",
       "      <th>1</th>\n",
       "      <td>11</td>\n",
       "      <td>989</td>\n",
       "    </tr>\n",
       "  </tbody>\n",
       "</table>\n",
       "</div>"
      ],
      "text/plain": [
       "       0    1\n",
       "0  18937   60\n",
       "1     11  989"
      ]
     },
     "execution_count": 52,
     "metadata": {},
     "output_type": "execute_result"
    }
   ],
   "source": [
    "# Panel of all test set confusion matrices for binary encoded model\n",
    "pl = pandas.Panel(binaryCms)\n",
    "cm = pl.sum(axis=0) #Sum the confusion matrices to get one view of how well the classifiers perform\n",
    "cm"
   ]
  },
  {
   "cell_type": "markdown",
   "metadata": {},
   "source": [
    "1e.) There are only a handful of cases which were not classified correctly.  These documents are either missing phrases used in the top common words, or require additional weighting for group specific terms."
   ]
  }
 ],
 "metadata": {
  "kernelspec": {
   "display_name": "Python 3",
   "language": "python",
   "name": "python3"
  },
  "language_info": {
   "codemirror_mode": {
    "name": "ipython",
    "version": 3
   },
   "file_extension": ".py",
   "mimetype": "text/x-python",
   "name": "python",
   "nbconvert_exporter": "python",
   "pygments_lexer": "ipython3",
   "version": "3.4.3"
  },
  "widgets": {
   "state": {},
   "version": "1.1.2"
  }
 },
 "nbformat": 4,
 "nbformat_minor": 0
}
